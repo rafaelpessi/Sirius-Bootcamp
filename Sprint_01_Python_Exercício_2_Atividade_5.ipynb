{
  "nbformat": 4,
  "nbformat_minor": 0,
  "metadata": {
    "colab": {
      "provenance": [],
      "authorship_tag": "ABX9TyN7T3frH45+3W0GaxlnsrRx",
      "include_colab_link": true
    },
    "kernelspec": {
      "name": "python3",
      "display_name": "Python 3"
    },
    "language_info": {
      "name": "python"
    }
  },
  "cells": [
    {
      "cell_type": "markdown",
      "metadata": {
        "id": "view-in-github",
        "colab_type": "text"
      },
      "source": [
        "<a href=\"https://colab.research.google.com/github/rafaelpessi/Sirius-Bootcamp/blob/main/Sprint_01_Python_Exerc%C3%ADcio_2_Atividade_5.ipynb\" target=\"_parent\"><img src=\"https://colab.research.google.com/assets/colab-badge.svg\" alt=\"Open In Colab\"/></a>"
      ]
    },
    {
      "cell_type": "markdown",
      "source": [
        "#### 5) Crie uma função que calcula a média das idades dos alunos aprovados (considerando media 6) de um determinado estado. Por exemplo, a função `media_idade_aprov_por_estado(notas, estados, idades, 'SP')` deve retornar a média das idades do alunos (com duas casas decimais) aprovados que residem no estado de São Paulo."
      ],
      "metadata": {
        "id": "066qPwFfIAOo"
      }
    },
    {
      "cell_type": "markdown",
      "source": [
        "**Passo 1:** Definir a função e seus parâmetros:"
      ],
      "metadata": {
        "id": "UIeuq4uKJafR"
      }
    },
    {
      "cell_type": "code",
      "source": [
        "def media_idade_aprov_por_estado(notas, estados, idades, estado_desejado):\n",
        "    # Implementação da função virá aqui\n",
        "    pass"
      ],
      "metadata": {
        "id": "SGj43nlOIOz8"
      },
      "execution_count": null,
      "outputs": []
    },
    {
      "cell_type": "markdown",
      "source": [
        "**Passo 2:** Inicializar variáveis para acumular a soma das idades e a quantidade de alunos aprovados no estado desejado:"
      ],
      "metadata": {
        "id": "hVpRY90gJiQY"
      }
    },
    {
      "cell_type": "code",
      "source": [
        "def media_idade_aprov_por_estado(notas, estados, idades, estado_desejado):\n",
        "    # Inicializar variáveis\n",
        "    soma_idades = 0\n",
        "    quant_aprovados = 0\n",
        "\n",
        "    # Implementação da função virá aqui\n",
        "    pass"
      ],
      "metadata": {
        "id": "feGkRHymJf-B"
      },
      "execution_count": null,
      "outputs": []
    },
    {
      "cell_type": "markdown",
      "source": [
        "**Passo 3:** Iterar sobre as notas, estados e idades simultaneamente, acumulando a soma das idades e a quantidade de alunos aprovados no estado desejado:"
      ],
      "metadata": {
        "id": "FQL9FFFdJv9U"
      }
    },
    {
      "cell_type": "code",
      "source": [
        "def media_idade_aprov_por_estado(notas, estados, idades, estado_desejado):\n",
        "    # Inicializar variáveis\n",
        "    soma_idades = 0\n",
        "    quant_aprovados = 0\n",
        "\n",
        "    # Iterar sobre as notas, estados e idades simultaneamente\n",
        "    for nota, estado_aluno, idade_aluno in zip(notas, estados, idades):\n",
        "        # Verificar se o estado é o desejado e se o aluno foi aprovado\n",
        "        if estado_aluno == estado_desejado and nota >= 6:\n",
        "            soma_idades += idade_aluno\n",
        "            quant_aprovados += 1\n",
        "\n",
        "    # Implementação da função virá aqui\n",
        "    pass\n",
        "\n"
      ],
      "metadata": {
        "id": "tLTzCTpfKEVJ"
      },
      "execution_count": null,
      "outputs": []
    },
    {
      "cell_type": "markdown",
      "source": [
        "**Passo 4:** Calcular a média das idades dos alunos aprovados (com duas casas decimais) e retornar o resultado:"
      ],
      "metadata": {
        "id": "QmIH7ltAKX8t"
      }
    },
    {
      "cell_type": "code",
      "source": [
        "def media_idade_aprov_por_estado(notas, estados, idades, estado_desejado):\n",
        "\n",
        "    # Inicializar variáveis\n",
        "\n",
        "    soma_idades = 0\n",
        "    quant_aprovados = 0\n",
        "\n",
        "    # Iterar sobre as notas, estados e idades simultaneamente\n",
        "\n",
        "    for nota, estado_aluno, idade_aluno in zip(notas, estados, idades):\n",
        "\n",
        "        # Verificar se o estado é o desejado e se o aluno foi aprovado\n",
        "\n",
        "        if estado_aluno == estado_desejado and nota >= 6:\n",
        "            soma_idades += idade_aluno\n",
        "            quant_aprovados += 1\n",
        "\n",
        "    # Calcular a média das idades dos alunos aprovados\n",
        "\n",
        "    if quant_aprovados > 0:\n",
        "        media_idades = soma_idades / quant_aprovados\n",
        "\n",
        "        # Retornar a média com duas casas decimais\n",
        "\n",
        "        return round(media_idades, 2)\n",
        "    else:\n",
        "        # Se não houver alunos aprovados no estado desejado, retornar 0.0\n",
        "        return 0.0\n",
        "\n",
        "# dados\n",
        "nomes = ['João', 'José', 'Fernando', 'Rafaela', 'Kleber', 'Laercio', 'Carlos','Paula','Adriana','Walkyria','Guilherme','Gustavo','Gabriel', 'Mayara', 'Ana', 'Daniela', 'Rafael', 'Daiane', 'Maria', 'Mateus', 'Monique', 'Brian', 'Henrique', 'Alberto', 'Mônica', 'Bruce', 'Simone']\n",
        "notas = [8,7,6,9,3,8,7,5,9,1,4,5,8,4,9,7,5,6,2,7,4,5,8,7,9,10,5]\n",
        "idades = [25,17,56,32,27,31,48,24,41,50,29,22,30,31,28,52,27,33,35,36,38,26,29,35,38,41,46]\n",
        "estados = ['PR','SP','SP','MG','RJ','MG','PB','AM','SC','MS','SP','MG','AM','RO','MG','BA','MG','ES','CE','MG','PA','PI','PE','MG','RR','MG','SE']\n"
      ],
      "metadata": {
        "id": "QQ3fWxLeKck9"
      },
      "execution_count": null,
      "outputs": []
    },
    {
      "cell_type": "markdown",
      "source": [
        "**Passo 5:** testar a função"
      ],
      "metadata": {
        "id": "rHTbWVajMQvZ"
      }
    },
    {
      "cell_type": "code",
      "execution_count": null,
      "metadata": {
        "colab": {
          "base_uri": "https://localhost:8080/"
        },
        "id": "BEyu1NjGH78g",
        "outputId": "4d72140b-96a0-481c-e06e-8f9c35ff2fa8"
      },
      "outputs": [
        {
          "output_type": "stream",
          "name": "stdout",
          "text": [
            "A média das idades dos alunos aprovados de SP é: 36.5\n"
          ]
        }
      ],
      "source": [
        "# Chamar a função\n",
        "media_idade_sp_aprov = media_idade_aprov_por_estado(notas, estados, idades, 'SP')\n",
        "print(f\"A média das idades dos alunos aprovados de SP é: {media_idade_sp_aprov}\")\n"
      ]
    },
    {
      "cell_type": "markdown",
      "source": [
        "**PERGUNTA 01:** Em \"quant_aprovados += 1\", você pode me explicar o uso dos sinais + e = ao mesmo tempo?"
      ],
      "metadata": {
        "id": "cNzlUZ8fZiBb"
      }
    },
    {
      "cell_type": "markdown",
      "source": [
        "Certamente! O operador **+=** é um operador de atribuição combinado em Python. Ele realiza a adição do valor à direita ao valor à esquerda e, em seguida, atribui o resultado à variável à esquerda. É uma forma mais concisa de escrever **quant_aprovados = quant_aprovados + 1**.\n",
        "\n",
        "Então, quando você vê **quant_aprovados += 1**, significa que está incrementando o valor da variável **quant_aprovados** em **1**. É uma forma mais curta e expressiva de escrever a operação de incremento.\n",
        "\n",
        "Isso é bastante comum em loops ou contadores, onde você deseja aumentar o valor de uma variável por uma certa quantidade. Se tiver mais perguntas ou se precisar de mais esclarecimentos, estou à disposição!"
      ],
      "metadata": {
        "id": "vWJMVkg9ZpNY"
      }
    },
    {
      "cell_type": "markdown",
      "source": [
        "**PERGUNTA 02:** Você poderia me explicar a linha \"return round(media_idades, 2)\"?  Round é..."
      ],
      "metadata": {
        "id": "5sSPUKFSaeIC"
      }
    },
    {
      "cell_type": "markdown",
      "source": [
        "A função **round** em Python é utilizada para arredondar números decimais para um **número específico de casas** decimais.\n",
        "\n",
        "Isso significa que estamos arredondando o valor da variável **media_idades** para **2 casas decimais** antes de retorná-lo.\n",
        "\n",
        "Vamos a um exemplo para ilustrar:\n",
        "\n",
        "Suponha que **media_idades** seja igual a **23.45678**. Se chamarmos **round(media_idades, 2)**, o resultado será **23.46**, pois arredondamos para duas casas decimais.\n",
        "\n",
        "Se não usássemos o round e simplesmente fizéssemos **return media_idades**, o resultado poderia ser **23.45678** sem arredondamento.\n",
        "\n",
        "O uso do round é comum quando você deseja limitar o número de casas decimais em um resultado, tornando-o mais fácil de ler ou adequado ao contexto da aplicação."
      ],
      "metadata": {
        "id": "qyIqRTXDaiat"
      }
    }
  ]
}