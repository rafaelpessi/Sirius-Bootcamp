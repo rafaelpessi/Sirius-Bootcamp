{
  "nbformat": 4,
  "nbformat_minor": 0,
  "metadata": {
    "colab": {
      "provenance": [],
      "authorship_tag": "ABX9TyOeJQ9VHV6cAfCaoZ1FDeda",
      "include_colab_link": true
    },
    "kernelspec": {
      "name": "python3",
      "display_name": "Python 3"
    },
    "language_info": {
      "name": "python"
    }
  },
  "cells": [
    {
      "cell_type": "markdown",
      "metadata": {
        "id": "view-in-github",
        "colab_type": "text"
      },
      "source": [
        "<a href=\"https://colab.research.google.com/github/rafaelpessi/Sirius-Bootcamp/blob/main/Sprint_01_Python_Exerc%C3%ADcios_Aulas_9.ipynb\" target=\"_parent\"><img src=\"https://colab.research.google.com/assets/colab-badge.svg\" alt=\"Open In Colab\"/></a>"
      ]
    },
    {
      "cell_type": "markdown",
      "source": [
        "<br>\n",
        "<br>\n",
        "\n",
        "# **Aula 09 - Estrutura de Repetição - For**\n",
        "\n",
        "<br>\n",
        "<br>\n",
        "\n",
        "___\n",
        "\n",
        "\n",
        "Um **loop for** é uma instrução para iterar sobre uma sequência (lista, dicionário, entre outros), permitindo que o código seja executado várias vezes.\n",
        "\n",
        "![for.png](data:image/png;base64,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)"
      ],
      "metadata": {
        "id": "AMUK-ZrMYg1Q"
      }
    },
    {
      "cell_type": "code",
      "execution_count": null,
      "metadata": {
        "id": "uTo6EVRQYNGb"
      },
      "outputs": [],
      "source": [
        "mensagem  = 'Estudar é viver'"
      ]
    },
    {
      "cell_type": "code",
      "source": [
        "print(mensagem)\n",
        "print(mensagem)\n",
        "print(mensagem)\n",
        "print(mensagem)\n",
        "print(mensagem)"
      ],
      "metadata": {
        "colab": {
          "base_uri": "https://localhost:8080/"
        },
        "id": "hMbv6oVLZUVv",
        "outputId": "66cb3f7c-d1ec-427c-da2f-14cd7a5ab7dd"
      },
      "execution_count": null,
      "outputs": [
        {
          "output_type": "stream",
          "name": "stdout",
          "text": [
            "Estudar é viver\n",
            "Estudar é viver\n",
            "Estudar é viver\n",
            "Estudar é viver\n",
            "Estudar é viver\n"
          ]
        }
      ]
    },
    {
      "cell_type": "code",
      "source": [
        "for i in range(10):\n",
        "  print (mensagem)"
      ],
      "metadata": {
        "colab": {
          "base_uri": "https://localhost:8080/"
        },
        "id": "vWqjHKciZe_u",
        "outputId": "059adf6d-a944-445c-d164-4a84c1edfba7"
      },
      "execution_count": null,
      "outputs": [
        {
          "output_type": "stream",
          "name": "stdout",
          "text": [
            "Estudar é viver\n",
            "Estudar é viver\n",
            "Estudar é viver\n",
            "Estudar é viver\n",
            "Estudar é viver\n",
            "Estudar é viver\n",
            "Estudar é viver\n",
            "Estudar é viver\n",
            "Estudar é viver\n",
            "Estudar é viver\n"
          ]
        }
      ]
    },
    {
      "cell_type": "code",
      "source": [
        "range(10)"
      ],
      "metadata": {
        "colab": {
          "base_uri": "https://localhost:8080/"
        },
        "id": "lhqh9_sTaIkj",
        "outputId": "18581bd3-6b4d-4841-87e4-0dac2f03f8da"
      },
      "execution_count": null,
      "outputs": [
        {
          "output_type": "execute_result",
          "data": {
            "text/plain": [
              "range(0, 10)"
            ]
          },
          "metadata": {},
          "execution_count": 8
        }
      ]
    },
    {
      "cell_type": "code",
      "source": [
        "for i in range(10):\n",
        "  print(i)"
      ],
      "metadata": {
        "colab": {
          "base_uri": "https://localhost:8080/"
        },
        "id": "8uKOWd-YawSu",
        "outputId": "c858b2e4-122d-4de4-e098-27345bc86650"
      },
      "execution_count": null,
      "outputs": [
        {
          "output_type": "stream",
          "name": "stdout",
          "text": [
            "0\n",
            "1\n",
            "2\n",
            "3\n",
            "4\n",
            "5\n",
            "6\n",
            "7\n",
            "8\n",
            "9\n"
          ]
        }
      ]
    },
    {
      "cell_type": "code",
      "source": [
        "# range (inicio, final, passo)"
      ],
      "metadata": {
        "id": "7gY4GMR4bZ-n"
      },
      "execution_count": null,
      "outputs": []
    },
    {
      "cell_type": "code",
      "source": [
        "for i in range(1,11):\n",
        "  print(i)"
      ],
      "metadata": {
        "colab": {
          "base_uri": "https://localhost:8080/"
        },
        "id": "w0pOQIDNbhyL",
        "outputId": "3f3c9f46-9216-43ba-c431-97db4448cf47"
      },
      "execution_count": null,
      "outputs": [
        {
          "output_type": "stream",
          "name": "stdout",
          "text": [
            "1\n",
            "2\n",
            "3\n",
            "4\n",
            "5\n",
            "6\n",
            "7\n",
            "8\n",
            "9\n",
            "10\n"
          ]
        }
      ]
    },
    {
      "cell_type": "code",
      "source": [
        "for i in range(1,11,2):\n",
        "  print(i)"
      ],
      "metadata": {
        "colab": {
          "base_uri": "https://localhost:8080/"
        },
        "id": "PBKSkTLXb-4Q",
        "outputId": "3c389a00-841e-4ae0-d0c0-d79d242ab21c"
      },
      "execution_count": null,
      "outputs": [
        {
          "output_type": "stream",
          "name": "stdout",
          "text": [
            "1\n",
            "3\n",
            "5\n",
            "7\n",
            "9\n"
          ]
        }
      ]
    },
    {
      "cell_type": "markdown",
      "source": [
        "Vamos imaginar as seguintes situações ...\n",
        "\n",
        "**Exercício 1:** Escreva um programa que soma todos os números de 1 a 10"
      ],
      "metadata": {
        "id": "RgrGMMF1cS3_"
      }
    },
    {
      "cell_type": "code",
      "source": [
        "soma = 1 + 2 + 3 + 4 + 5 + 6 + 7 + 8 + 9 + 10\n",
        "\n",
        "print(soma)"
      ],
      "metadata": {
        "colab": {
          "base_uri": "https://localhost:8080/"
        },
        "id": "q8alqSUucj23",
        "outputId": "2d19a037-a8e3-489e-e880-5161edcd0833"
      },
      "execution_count": null,
      "outputs": [
        {
          "output_type": "stream",
          "name": "stdout",
          "text": [
            "55\n"
          ]
        }
      ]
    },
    {
      "cell_type": "code",
      "source": [
        "soma = 0\n",
        "\n",
        "for i in range(1,201):\n",
        "  soma = soma + i"
      ],
      "metadata": {
        "id": "iPLCJzmXc9qg"
      },
      "execution_count": null,
      "outputs": []
    },
    {
      "cell_type": "code",
      "source": [
        "print(soma)"
      ],
      "metadata": {
        "colab": {
          "base_uri": "https://localhost:8080/"
        },
        "id": "qjYp4Q1ed-pw",
        "outputId": "4a1a1617-6392-4f2f-89b2-0be906a623b4"
      },
      "execution_count": null,
      "outputs": [
        {
          "output_type": "stream",
          "name": "stdout",
          "text": [
            "20100\n"
          ]
        }
      ]
    },
    {
      "cell_type": "markdown",
      "source": [
        "**Exercício:** Escreva um programa que solicita ao usuário 5 números. Após o\n",
        "\n",
        "---\n",
        "\n",
        "usuário digitar os 5 números, o programa deve exibir a soma dos números:"
      ],
      "metadata": {
        "id": "1adu5Lo8eVBn"
      }
    },
    {
      "cell_type": "code",
      "source": [
        "soma = 0\n",
        "\n",
        "for i in range(5):\n",
        "  numero = int(input('Digite um número: '))\n",
        "\n",
        "  soma = soma + numero\n",
        "\n",
        "print(f'A soma é igual a {soma}')"
      ],
      "metadata": {
        "colab": {
          "base_uri": "https://localhost:8080/"
        },
        "id": "9LYR7P_neWF3",
        "outputId": "c92de12d-5e96-41be-cce4-18e53d8c34e1"
      },
      "execution_count": null,
      "outputs": [
        {
          "output_type": "stream",
          "name": "stdout",
          "text": [
            "Digite um número: 5\n",
            "Digite um número: 10\n",
            "Digite um número: 15\n",
            "Digite um número: 20\n",
            "Digite um número: 25\n",
            "A soma é igual a 75\n"
          ]
        }
      ]
    },
    {
      "cell_type": "code",
      "source": [
        "lista = [1,2,3,4,5]\n",
        "\n",
        "for i in lista:\n",
        "  print(i)"
      ],
      "metadata": {
        "colab": {
          "base_uri": "https://localhost:8080/"
        },
        "id": "GVby5Hm1gXkp",
        "outputId": "751c472e-9fad-404b-97b9-0b652efed06d"
      },
      "execution_count": null,
      "outputs": [
        {
          "output_type": "stream",
          "name": "stdout",
          "text": [
            "1\n",
            "2\n",
            "3\n",
            "4\n",
            "5\n"
          ]
        }
      ]
    },
    {
      "cell_type": "code",
      "source": [
        "notas = {'Matemática': 9, 'Ciências': 8, 'Biologia': 10}\n",
        "\n",
        "for i in notas.items():\n",
        "  print(i)"
      ],
      "metadata": {
        "colab": {
          "base_uri": "https://localhost:8080/"
        },
        "id": "oXnIwvLVhfhp",
        "outputId": "8b71b906-4996-4b80-9d03-d84213f0f6b5"
      },
      "execution_count": null,
      "outputs": [
        {
          "output_type": "stream",
          "name": "stdout",
          "text": [
            "('Matemática', 9)\n",
            "('Ciências', 8)\n",
            "('Biologia', 10)\n"
          ]
        }
      ]
    },
    {
      "cell_type": "code",
      "source": [
        "for chave, valor in notas.items():\n",
        "  print(f'Chave = {chave} e Valor = {valor}')"
      ],
      "metadata": {
        "colab": {
          "base_uri": "https://localhost:8080/"
        },
        "id": "1I4KYLCzh-Zw",
        "outputId": "2cad07e2-efe6-444a-cb56-cea75dc0ffa5"
      },
      "execution_count": null,
      "outputs": [
        {
          "output_type": "stream",
          "name": "stdout",
          "text": [
            "Chave = Matemática e Valor = 9\n",
            "Chave = Ciências e Valor = 8\n",
            "Chave = Biologia e Valor = 10\n"
          ]
        }
      ]
    }
  ]
}