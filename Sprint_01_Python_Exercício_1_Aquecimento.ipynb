{
  "nbformat": 4,
  "nbformat_minor": 0,
  "metadata": {
    "colab": {
      "provenance": [],
      "authorship_tag": "ABX9TyM1mQ37RJDKMc9OK9eZJeGL",
      "include_colab_link": true
    },
    "kernelspec": {
      "name": "python3",
      "display_name": "Python 3"
    },
    "language_info": {
      "name": "python"
    }
  },
  "cells": [
    {
      "cell_type": "markdown",
      "metadata": {
        "id": "view-in-github",
        "colab_type": "text"
      },
      "source": [
        "<a href=\"https://colab.research.google.com/github/rafaelpessi/Sirius-Bootcamp/blob/main/Sprint_01_Python_Exerc%C3%ADcio_1_Aquecimento.ipynb\" target=\"_parent\"><img src=\"https://colab.research.google.com/assets/colab-badge.svg\" alt=\"Open In Colab\"/></a>"
      ]
    },
    {
      "cell_type": "markdown",
      "source": [
        "# Exercícios de Lógica de Programação em Python"
      ],
      "metadata": {
        "id": "9J5DuCL5PEU9"
      }
    },
    {
      "cell_type": "markdown",
      "source": [
        "## Exercício 1 (Aquecimento): Vamos criar uma calculadora (simples) com as operações soma, subtração, multiplicação, divisão.\n",
        "\n",
        "Dica: crie funções para tarefas específicas como, por exemplo, uma função `soma(a,b)`, uma função `subtracao(a,b)`, ... e depois use estas funções para criar a função `calculadora()`.\n",
        "\n",
        "Lembre-se de que não se pode dividir por zero."
      ],
      "metadata": {
        "id": "6hNAPgcsPJnN"
      }
    },
    {
      "cell_type": "code",
      "source": [
        "# Funções das operações da calculadora\n",
        "\n",
        "# 1) Função ADIÇÃO\n",
        "\n",
        "def somar (a,b):\n",
        "  return a + b\n",
        "\n",
        "# 2) Função SUBTRAÇÃO\n",
        "\n",
        "def subtrair (a,b):\n",
        "  return a - b\n",
        "\n",
        "# 3) Função MULTIPLICAÇÃO\n",
        "\n",
        "def multiplicar (a,b):\n",
        "  return a * b\n",
        "\n",
        " # 4) Função DIVISÃO\n",
        "\n",
        "def dividir (a,b):\n",
        "\n",
        "  if b == 0:\n",
        "    print(\"Erro: Não é possível dividir por zero.\")\n",
        "    return None  # Ou outro valor que faça sentido para o seu programa\n",
        "  else:\n",
        "    return a / b\n",
        "\n",
        "# 5) Função ENCERRAR\n",
        "\n",
        "def encerrar():\n",
        "  print('Encerrando a calculadora')\n",
        "  return True  # Retorna True para indicar que a calculadora deve ser encerrada\n",
        "\n",
        "# Função para exibir a calculadora\n",
        "\n",
        "def calculadora():\n",
        "    continuar_execucao = True  # Adiciona uma variável para controlar a execução do loop\n",
        "\n",
        "    while continuar_execucao:\n",
        "        print ('Escolha o número da operação a ser realizada:')\n",
        "        print ('1) Soma')\n",
        "        print ('2) Subtração')\n",
        "        print ('3) Multiplicação')\n",
        "        print ('4) Divisão')\n",
        "        print ('5) Encerrar calculadora')\n",
        "\n",
        "        opcao = int(input('Opção escolhida: '))\n",
        "\n",
        "        if opcao == 0 or opcao > 5:\n",
        "            print('Opção inválida. Por favor, insira uma opção válida.')\n",
        "            opcao = int(input('Opção escolhida: '))\n",
        "        else:\n",
        "            if opcao == 1:\n",
        "\n",
        "              # ... (código para a soma)\n",
        "\n",
        "              a = float(input('Digite o primeiro valor: '))\n",
        "              b = float(input('Digite o segundo valor: '))\n",
        "\n",
        "              resultado = somar (a,b)\n",
        "\n",
        "              print(f'Escolhida a operação de Soma.')\n",
        "              print(f'O resultado da soma é: {resultado}')\n",
        "\n",
        "            elif opcao == 2:\n",
        "\n",
        "              # ... (código para a subtração)\n",
        "\n",
        "              a = float(input('Digite o primeiro valor: '))\n",
        "              b = float(input('Digite o segundo valor: '))\n",
        "\n",
        "              resultado = subtrair (a,b)\n",
        "\n",
        "              print(f'Escolhida a operação de Subtração.')\n",
        "              print(f'O resultado da subtração é: {resultado}')\n",
        "\n",
        "            elif opcao == 3:\n",
        "\n",
        "              # ... (código para a multiplicação)\n",
        "\n",
        "              a = float(input('Digite o primeiro valor: '))\n",
        "              b = float(input('Digite o segundo valor: '))\n",
        "\n",
        "              resultado = multiplicar (a,b)\n",
        "\n",
        "              print(f'Escolhida a operação de multiplicação.')\n",
        "              print(f'O resultado da multiplicação é: {resultado}')\n",
        "\n",
        "            elif opcao == 4:\n",
        "\n",
        "              # ... (código para a divisão)\n",
        "\n",
        "              a = float(input('Digite o primeiro valor: '))\n",
        "              b = float(input('Digite o segundo valor: '))\n",
        "\n",
        "              resultado = dividir(a, b)\n",
        "\n",
        "              if resultado is not None:\n",
        "                print(f'Escolhida a operação de divisão.')\n",
        "                print(f'O resultado da divisão é: {resultado}')\n",
        "              else:\n",
        "                print('Por favor, insira um divisor diferente de zero.')\n",
        "\n",
        "            elif opcao == 5:\n",
        "                continuar_execucao = not encerrar()  # Inverte o valor retornado por encerrar()\n",
        "\n"
      ],
      "metadata": {
        "id": "0h3IVAzeX-6r"
      },
      "execution_count": null,
      "outputs": []
    },
    {
      "cell_type": "code",
      "source": [
        "calculadora()"
      ],
      "metadata": {
        "id": "MNtwxw2QPO-U"
      },
      "execution_count": null,
      "outputs": []
    }
  ]
}