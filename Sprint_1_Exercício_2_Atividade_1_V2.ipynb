{
  "nbformat": 4,
  "nbformat_minor": 0,
  "metadata": {
    "colab": {
      "provenance": [],
      "authorship_tag": "ABX9TyPL+0K+PV+Fzeel4Qt7g3Hv",
      "include_colab_link": true
    },
    "kernelspec": {
      "name": "python3",
      "display_name": "Python 3"
    },
    "language_info": {
      "name": "python"
    }
  },
  "cells": [
    {
      "cell_type": "markdown",
      "metadata": {
        "id": "view-in-github",
        "colab_type": "text"
      },
      "source": [
        "<a href=\"https://colab.research.google.com/github/rafaelpessi/Sirius-Bootcamp/blob/main/Sprint_1_Exerc%C3%ADcio_2_Atividade_1_V2.ipynb\" target=\"_parent\"><img src=\"https://colab.research.google.com/assets/colab-badge.svg\" alt=\"Open In Colab\"/></a>"
      ]
    },
    {
      "cell_type": "markdown",
      "source": [
        "Esta é uma segunda versão da Atividade 1.\n",
        "\n",
        "Preciso criar uma função que leia as listas de nome e estados e selecione os nomes das pessoas que moram em um determinado estado.\n",
        "\n",
        "A diferença é que essa versão retorna os nomes dentro da variável alunos_no_estado.\n"
      ],
      "metadata": {
        "id": "GZxBgvn5IjfB"
      }
    },
    {
      "cell_type": "code",
      "execution_count": 1,
      "metadata": {
        "id": "c3DkYBS0L7oP",
        "colab": {
          "base_uri": "https://localhost:8080/"
        },
        "outputId": "48bc88c7-063d-440b-a05b-37dcafe4b52f"
      },
      "outputs": [
        {
          "output_type": "stream",
          "name": "stdout",
          "text": [
            "Digite o estado desejado: SP\n",
            "Alunos que moram em SP: ['José', 'Fernando', 'Guilherme']\n"
          ]
        }
      ],
      "source": [
        "# dados\n",
        "nomes = ['João', 'José', 'Fernando', 'Rafaela', 'Kleber', 'Laercio', 'Carlos','Paula','Adriana','Walkyria','Guilherme','Gustavo','Gabriel', 'Mayara', 'Ana', 'Daniela', 'Rafael', 'Daiane', 'Maria', 'Mateus', 'Monique', 'Brian', 'Henrique', 'Alberto', 'Mônica', 'Bruce', 'Simone']\n",
        "notas = [8,7,6,9,3,8,7,5,9,1,4,5,8,4,9,7,5,6,2,7,4,5,8,7,9,10,5]\n",
        "idades = [25,17,56,32,27,31,48,24,41,50,29,22,30,31,28,52,27,33,35,36,38,26,29,35,38,41,46]\n",
        "estados = ['PR','SP','SP','MG','RJ','MG','PB','AM','SC','MS','SP','MG','AM','RO','MG','BA','MG','ES','CE','MG','PA','PI','PE','MG','RR','MG','SE']\n",
        "\n",
        "\n",
        "def selecionar_alunos_por_estado(nomes, estados, estado_desejado):\n",
        "    # Inicializar uma lista para armazenar os nomes dos alunos no estado selecionado\n",
        "    alunos_no_estado = []\n",
        "\n",
        "    # Iterar sobre os índices das listas e selecionar os alunos no estado desejado\n",
        "    for i in range(len(nomes)):\n",
        "        if estados[i] == estado_desejado:\n",
        "            alunos_no_estado.append(nomes[i])\n",
        "\n",
        "    # Retornar a lista de nomes dos alunos no estado desejado\n",
        "    return alunos_no_estado\n",
        "\n",
        "\n",
        "# Solicitar ao usuário que insira o estado desejado\n",
        "estado_desejado = input(\"Digite o estado desejado: \")\n",
        "\n",
        "# Chamar a função e armazenar o resultado\n",
        "alunos_selecionados = selecionar_alunos_por_estado(nomes, estados, estado_desejado)\n",
        "\n",
        "# Imprimir a lista de nomes (pode ser substituído por outras operações com a lista)\n",
        "print(\"Alunos que moram em\", estado_desejado + \":\", alunos_selecionados)\n",
        "\n"
      ]
    }
  ]
}