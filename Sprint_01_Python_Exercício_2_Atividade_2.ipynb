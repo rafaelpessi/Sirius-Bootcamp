{
  "nbformat": 4,
  "nbformat_minor": 0,
  "metadata": {
    "colab": {
      "provenance": [],
      "authorship_tag": "ABX9TyOrwVViIbFweqmuiQ3vtJIj",
      "include_colab_link": true
    },
    "kernelspec": {
      "name": "python3",
      "display_name": "Python 3"
    },
    "language_info": {
      "name": "python"
    }
  },
  "cells": [
    {
      "cell_type": "markdown",
      "metadata": {
        "id": "view-in-github",
        "colab_type": "text"
      },
      "source": [
        "<a href=\"https://colab.research.google.com/github/rafaelpessi/Sirius-Bootcamp/blob/main/Sprint_01_Python_Exerc%C3%ADcio_2_Atividade_2.ipynb\" target=\"_parent\"><img src=\"https://colab.research.google.com/assets/colab-badge.svg\" alt=\"Open In Colab\"/></a>"
      ]
    },
    {
      "cell_type": "markdown",
      "source": [
        "#### 2) Crie uma função que calcula quantas pessoas foram aprovadas por estado, considerando média 6. Por exemplo, a função `quant_aprov_estado(estados, notas, 'SP')` deve retornar quantos alunos foram aprovados no estado de São Paulo.\n"
      ],
      "metadata": {
        "id": "GZxBgvn5IjfB"
      }
    },
    {
      "cell_type": "code",
      "execution_count": null,
      "metadata": {
        "id": "c3DkYBS0L7oP",
        "colab": {
          "base_uri": "https://localhost:8080/"
        },
        "outputId": "3c0a6c16-090c-412a-eddb-49d86d46636d"
      },
      "outputs": [
        {
          "output_type": "stream",
          "name": "stdout",
          "text": [
            "A quantidade de alunos aprovados em SP é: 2\n"
          ]
        }
      ],
      "source": [
        "# dados\n",
        "nomes = ['João', 'José', 'Fernando', 'Rafaela', 'Kleber', 'Laercio', 'Carlos','Paula','Adriana','Walkyria','Guilherme','Gustavo','Gabriel', 'Mayara', 'Ana', 'Daniela', 'Rafael', 'Daiane', 'Maria', 'Mateus', 'Monique', 'Brian', 'Henrique', 'Alberto', 'Mônica', 'Bruce', 'Simone']\n",
        "notas = [8,7,6,9,3,8,7,5,9,1,4,5,8,4,9,7,5,6,2,7,4,5,8,7,9,10,5]\n",
        "idades = [25,17,56,32,27,31,48,24,41,50,29,22,30,31,28,52,27,33,35,36,38,26,29,35,38,41,46]\n",
        "estados = ['PR','SP','SP','MG','RJ','MG','PB','AM','SC','MS','SP','MG','AM','RO','MG','BA','MG','ES','CE','MG','PA','PI','PE','MG','RR','MG','SE']\n",
        "\n",
        "def quant_aprov_estado(estados, notas, estado_desejado):\n",
        "\n",
        "  # Inicializar um contador para armazenar a quantidade de alunos aprovados\n",
        "\n",
        "  quant_aprovados = 0\n",
        "\n",
        "  # Iterar sobre os índices das listas\n",
        "\n",
        "  for i in range(len(estados)):\n",
        "\n",
        "    # Verificar se a nota é maior ou igual a 6 e o estado é o desejado\n",
        "\n",
        "      if notas[i] >= 6 and estados[i] == estado_desejado:\n",
        "        quant_aprovados = quant_aprovados + 1\n",
        "\n",
        "    # Retornar a quantidade de alunos aprovados no estado desejado\n",
        "\n",
        "  return quant_aprovados\n",
        "\n",
        "# Testar a função\n",
        "\n",
        "estado_desejado = 'SP'\n",
        "\n",
        "quantidade_aprovados = quant_aprov_estado(estados, notas, estado_desejado)\n",
        "\n",
        "print(f\"A quantidade de alunos aprovados em {estado_desejado} é: {quantidade_aprovados}\")\n",
        "\n"
      ]
    }
  ]
}