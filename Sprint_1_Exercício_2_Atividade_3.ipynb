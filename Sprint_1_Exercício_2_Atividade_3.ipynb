{
  "nbformat": 4,
  "nbformat_minor": 0,
  "metadata": {
    "colab": {
      "provenance": [],
      "authorship_tag": "ABX9TyNIUTl5K68z7VSYC1myQW3q",
      "include_colab_link": true
    },
    "kernelspec": {
      "name": "python3",
      "display_name": "Python 3"
    },
    "language_info": {
      "name": "python"
    }
  },
  "cells": [
    {
      "cell_type": "markdown",
      "metadata": {
        "id": "view-in-github",
        "colab_type": "text"
      },
      "source": [
        "<a href=\"https://colab.research.google.com/github/rafaelpessi/Sirius-Bootcamp/blob/main/Sprint_1_Exerc%C3%ADcio_2_Atividade_3.ipynb\" target=\"_parent\"><img src=\"https://colab.research.google.com/assets/colab-badge.svg\" alt=\"Open In Colab\"/></a>"
      ]
    },
    {
      "cell_type": "markdown",
      "source": [
        "#### 3) Crie uma função que calcula quantos alunos há por estado. Por exemplo, a função `alunos_por_estado(estados)` deve retornar uma mensagem dizendo quantos alunos há em cada estado.\n"
      ],
      "metadata": {
        "id": "GZxBgvn5IjfB"
      }
    },
    {
      "cell_type": "markdown",
      "source": [
        "**Explicação Chat GPT**\n",
        "\n",
        "Essa versão da função conta simplesmente quantos alunos há em cada estado, sem levar em consideração a nota.\n",
        "\n",
        "A linha **quant_alunos = estados.count(estado)** está utilizando o método count() da lista estados para contar quantas vezes um determinado elemento (neste caso, o estado atual do loop) aparece na lista.\n",
        "\n",
        "Em outras palavras, **estados.count(estado)** retorna a quantidade de vezes que o valor **estado** aparece na lista **estados**. Essa contagem é armazenada na variável **quant_alunos**. Assim, ao final dessa linha, **quant_alunos** conterá o número total de alunos no estado atual.\n",
        "\n",
        "Essa abordagem é útil quando você deseja contar quantas instâncias de um determinado valor existem em uma lista. Neste caso, estamos usando para contar quantos alunos há em cada estado."
      ],
      "metadata": {
        "id": "CAqL9m6VDzPS"
      }
    },
    {
      "cell_type": "code",
      "execution_count": null,
      "metadata": {
        "id": "c3DkYBS0L7oP"
      },
      "outputs": [],
      "source": [
        "def quant_aprov_estado(estados, notas):\n",
        "\n",
        "    # Criar um conjunto de todos os estados únicos\n",
        "    estados_unicos = set(estados)\n",
        "\n",
        "    # Iterar sobre cada estado único e calcular a quantidade total de alunos\n",
        "    for estado in estados_unicos:\n",
        "        # Contar a quantidade de alunos no estado atual\n",
        "        quant_alunos = estados.count(estado)\n",
        "\n",
        "        # Imprimir o resultado para o estado atual\n",
        "        print(f\"A quantidade de alunos em {estado} é: {quant_alunos}\")\n",
        "\n",
        "# dados\n",
        "nomes = ['João', 'José', 'Fernando', 'Rafaela', 'Kleber', 'Laercio', 'Carlos','Paula','Adriana','Walkyria','Guilherme','Gustavo','Gabriel', 'Mayara', 'Ana', 'Daniela', 'Rafael', 'Daiane', 'Maria', 'Mateus', 'Monique', 'Brian', 'Henrique', 'Alberto', 'Mônica', 'Bruce', 'Simone']\n",
        "notas = [8,7,6,9,3,8,7,5,9,1,4,5,8,4,9,7,5,6,2,7,4,5,8,7,9,10,5]\n",
        "idades = [25,17,56,32,27,31,48,24,41,50,29,22,30,31,28,52,27,33,35,36,38,26,29,35,38,41,46]\n",
        "estados = ['PR','SP','SP','MG','RJ','MG','PB','AM','SC','MS','SP','MG','AM','RO','MG','BA','MG','ES','CE','MG','PA','PI','PE','MG','RR','MG','SE']\n"
      ]
    },
    {
      "cell_type": "code",
      "source": [
        "# Chamar a função\n",
        "quant_aprov_estado(estados, notas)"
      ],
      "metadata": {
        "colab": {
          "base_uri": "https://localhost:8080/"
        },
        "id": "cVO0FlgaFGnT",
        "outputId": "7b509f44-28dc-4e98-c8ea-49d0d6f3136c"
      },
      "execution_count": null,
      "outputs": [
        {
          "output_type": "stream",
          "name": "stdout",
          "text": [
            "A quantidade de alunos em PB é: 1\n",
            "A quantidade de alunos em RJ é: 1\n",
            "A quantidade de alunos em SP é: 3\n",
            "A quantidade de alunos em PR é: 1\n",
            "A quantidade de alunos em PI é: 1\n",
            "A quantidade de alunos em CE é: 1\n",
            "A quantidade de alunos em AM é: 2\n",
            "A quantidade de alunos em ES é: 1\n",
            "A quantidade de alunos em RR é: 1\n",
            "A quantidade de alunos em MG é: 8\n",
            "A quantidade de alunos em PA é: 1\n",
            "A quantidade de alunos em SE é: 1\n",
            "A quantidade de alunos em RO é: 1\n",
            "A quantidade de alunos em SC é: 1\n",
            "A quantidade de alunos em MS é: 1\n",
            "A quantidade de alunos em BA é: 1\n",
            "A quantidade de alunos em PE é: 1\n"
          ]
        }
      ]
    },
    {
      "cell_type": "code",
      "source": [],
      "metadata": {
        "id": "BjwJr75vGK1c"
      },
      "execution_count": null,
      "outputs": []
    },
    {
      "cell_type": "markdown",
      "source": [
        "**Versão 2  - Ordenando os resultados de forma decrescente**\n",
        "\n",
        "**Explicação Chat GPT**\n",
        "\n",
        "Para ordenar os resultados de forma decrescente com base na quantidade de alunos em cada estado, podemos fazer uso da função sorted() e fornecer uma função de ordenação personalizada. Aqui está uma versão modificada da função que ordena os estados por quantidade de alunos em ordem decrescente.\n",
        "\n",
        "A principal alteração foi a introdução da lista quantidades_alunos, que contém tuplas de cada estado e sua quantidade de alunos correspondente. Essa lista é então ordenada com base na quantidade de alunos usando a função sorted(), especificando uma função lambda como chave de ordenação e configurando reverse=True para ordem decrescente.\n",
        "\n",
        "Em seguida, a função imprime os resultados ordenados. Essa abordagem permite que você exiba os estados de acordo com a quantidade de alunos, começando pelo que tem mais alunos.\n"
      ],
      "metadata": {
        "id": "vBaGFsd8FbIa"
      }
    },
    {
      "cell_type": "code",
      "source": [
        "def quant_alunos_por_estado_2(ordem_estados):\n",
        "    # Criar um conjunto de todos os estados únicos\n",
        "    estados_unicos = set(ordem_estados)\n",
        "\n",
        "    # Criar uma lista de tuplas contendo o estado e a quantidade de alunos\n",
        "    quantidades_alunos = [(estado, ordem_estados.count(estado)) for estado in estados_unicos]\n",
        "\n",
        "    # Ordenar a lista de tuplas em ordem decrescente pela quantidade de alunos\n",
        "    quantidades_alunos = sorted(quantidades_alunos, key=lambda x: x[1], reverse=True)\n",
        "\n",
        "    # Imprimir os resultados ordenados\n",
        "    for estado, quant_alunos in quantidades_alunos:\n",
        "        print(f\"A quantidade de alunos em {estado} é: {quant_alunos}\")\n",
        "\n",
        "# dados\n",
        "nomes = ['João', 'José', 'Fernando', 'Rafaela', 'Kleber', 'Laercio', 'Carlos','Paula','Adriana','Walkyria','Guilherme','Gustavo','Gabriel', 'Mayara', 'Ana', 'Daniela', 'Rafael', 'Daiane', 'Maria', 'Mateus', 'Monique', 'Brian', 'Henrique', 'Alberto', 'Mônica', 'Bruce', 'Simone']\n",
        "notas = [8,7,6,9,3,8,7,5,9,1,4,5,8,4,9,7,5,6,2,7,4,5,8,7,9,10,5]\n",
        "idades = [25,17,56,32,27,31,48,24,41,50,29,22,30,31,28,52,27,33,35,36,38,26,29,35,38,41,46]\n",
        "estados = ['PR','SP','SP','MG','RJ','MG','PB','AM','SC','MS','SP','MG','AM','RO','MG','BA','MG','ES','CE','MG','PA','PI','PE','MG','RR','MG','SE']\n",
        "\n"
      ],
      "metadata": {
        "id": "1KLFaHp5E9VJ"
      },
      "execution_count": null,
      "outputs": []
    },
    {
      "cell_type": "code",
      "source": [
        "# Chamar a função com os estados desordenados\n",
        "quant_alunos_por_estado_2(estados)"
      ],
      "metadata": {
        "colab": {
          "base_uri": "https://localhost:8080/"
        },
        "id": "aoQw0561FTOp",
        "outputId": "34d22382-6a92-4cf3-9ae5-d47277d508b1"
      },
      "execution_count": null,
      "outputs": [
        {
          "output_type": "stream",
          "name": "stdout",
          "text": [
            "A quantidade de alunos em MG é: 8\n",
            "A quantidade de alunos em SP é: 3\n",
            "A quantidade de alunos em AM é: 2\n",
            "A quantidade de alunos em PB é: 1\n",
            "A quantidade de alunos em RJ é: 1\n",
            "A quantidade de alunos em PR é: 1\n",
            "A quantidade de alunos em PI é: 1\n",
            "A quantidade de alunos em CE é: 1\n",
            "A quantidade de alunos em ES é: 1\n",
            "A quantidade de alunos em RR é: 1\n",
            "A quantidade de alunos em PA é: 1\n",
            "A quantidade de alunos em SE é: 1\n",
            "A quantidade de alunos em RO é: 1\n",
            "A quantidade de alunos em SC é: 1\n",
            "A quantidade de alunos em MS é: 1\n",
            "A quantidade de alunos em BA é: 1\n",
            "A quantidade de alunos em PE é: 1\n"
          ]
        }
      ]
    }
  ]
}