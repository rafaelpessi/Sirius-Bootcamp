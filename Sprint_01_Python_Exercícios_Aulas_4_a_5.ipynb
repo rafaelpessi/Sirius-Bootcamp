{
  "nbformat": 4,
  "nbformat_minor": 0,
  "metadata": {
    "colab": {
      "provenance": [],
      "authorship_tag": "ABX9TyO5PewbNwKc2XZ8lDiq9kmT",
      "include_colab_link": true
    },
    "kernelspec": {
      "name": "python3",
      "display_name": "Python 3"
    },
    "language_info": {
      "name": "python"
    }
  },
  "cells": [
    {
      "cell_type": "markdown",
      "metadata": {
        "id": "view-in-github",
        "colab_type": "text"
      },
      "source": [
        "<a href=\"https://colab.research.google.com/github/rafaelpessi/Sirius-Bootcamp/blob/main/Sprint_01_Python_Exerc%C3%ADcios_Aulas_4_a_5.ipynb\" target=\"_parent\"><img src=\"https://colab.research.google.com/assets/colab-badge.svg\" alt=\"Open In Colab\"/></a>"
      ]
    },
    {
      "cell_type": "markdown",
      "source": [
        "<br>\n",
        "<br>\n",
        "\n",
        "# **Aula 04 - Operadores Lógicos e Ordem de Precedência dos Operadores**\n",
        "\n",
        "<br>\n",
        "<br>\n",
        "\n",
        "___\n"
      ],
      "metadata": {
        "id": "AMX91MXO1ohj"
      }
    },
    {
      "cell_type": "code",
      "execution_count": null,
      "metadata": {
        "id": "j6TjMwPd1mEF"
      },
      "outputs": [],
      "source": [
        "#### **Operadores Lógicos**\n",
        "\n",
        "Operador | Nome\n",
        "-------- | --------\n",
        "not      | Negação\n",
        "and      | Conjunção\n",
        "or       | Disjunção"
      ]
    },
    {
      "cell_type": "code",
      "source": [
        "# not\n",
        "\n",
        "x = 10\n",
        "\n",
        "print(not x == 10)"
      ],
      "metadata": {
        "colab": {
          "base_uri": "https://localhost:8080/"
        },
        "id": "fhNko2Jl4fsQ",
        "outputId": "17bbe278-872b-4cb5-d302-e19ed7a79fb1"
      },
      "execution_count": null,
      "outputs": [
        {
          "output_type": "stream",
          "name": "stdout",
          "text": [
            "False\n"
          ]
        }
      ]
    },
    {
      "cell_type": "code",
      "source": [
        "# and\n",
        "\n",
        "x = 20\n",
        "\n",
        "print(x > 1 and x < 100)"
      ],
      "metadata": {
        "colab": {
          "base_uri": "https://localhost:8080/"
        },
        "id": "E6vMZ3jS4yzf",
        "outputId": "ccca9cef-8da3-48de-f875-10696ffe9160"
      },
      "execution_count": null,
      "outputs": [
        {
          "output_type": "stream",
          "name": "stdout",
          "text": [
            "True\n"
          ]
        }
      ]
    },
    {
      "cell_type": "code",
      "source": [
        "# or\n",
        "\n",
        "x = 30\n",
        "\n",
        "print (x > 40 or x < 10)"
      ],
      "metadata": {
        "colab": {
          "base_uri": "https://localhost:8080/"
        },
        "id": "7YwTHbZw5H_9",
        "outputId": "9afec055-4be9-49b8-8bfa-c1c7bdfa6dbb"
      },
      "execution_count": null,
      "outputs": [
        {
          "output_type": "stream",
          "name": "stdout",
          "text": [
            "False\n"
          ]
        }
      ]
    },
    {
      "cell_type": "markdown",
      "source": [
        "#### **Ordem de Precedência dos Operadores**\n",
        "* Parênteses\n",
        "* Exponenciação\n",
        "* Multiplicação, divisão, módulo e divisão inteira\n",
        "* Adição e subtração, que possuem a mesma precedência"
      ],
      "metadata": {
        "id": "6Cg9aumW6Dxf"
      }
    },
    {
      "cell_type": "markdown",
      "source": [
        "Exemplo: 9 + 25 + 50 % 4"
      ],
      "metadata": {
        "id": "1_Dt4_UB6PyP"
      }
    },
    {
      "cell_type": "code",
      "source": [
        "(10 - 1) + 5 ** 2 + 5 * 10 % 4"
      ],
      "metadata": {
        "colab": {
          "base_uri": "https://localhost:8080/"
        },
        "id": "Q556wgRr6Ghn",
        "outputId": "fc1800c4-6c0d-454f-ae5e-a876229f1590"
      },
      "execution_count": null,
      "outputs": [
        {
          "output_type": "execute_result",
          "data": {
            "text/plain": [
              "36"
            ]
          },
          "metadata": {},
          "execution_count": 19
        }
      ]
    },
    {
      "cell_type": "code",
      "source": [
        "10 - 1"
      ],
      "metadata": {
        "colab": {
          "base_uri": "https://localhost:8080/"
        },
        "id": "y5t2Nacl6PQN",
        "outputId": "c1fed155-7019-45d2-fe05-86da8cd6f122"
      },
      "execution_count": null,
      "outputs": [
        {
          "output_type": "execute_result",
          "data": {
            "text/plain": [
              "9"
            ]
          },
          "metadata": {},
          "execution_count": 14
        }
      ]
    },
    {
      "cell_type": "code",
      "source": [
        "5 ** 2"
      ],
      "metadata": {
        "colab": {
          "base_uri": "https://localhost:8080/"
        },
        "id": "3i0RcoCd7SO5",
        "outputId": "37cefd7b-dd24-47e0-b0fc-e7eda64fa9ce"
      },
      "execution_count": null,
      "outputs": [
        {
          "output_type": "execute_result",
          "data": {
            "text/plain": [
              "25"
            ]
          },
          "metadata": {},
          "execution_count": 15
        }
      ]
    },
    {
      "cell_type": "code",
      "source": [
        "5 * 10"
      ],
      "metadata": {
        "colab": {
          "base_uri": "https://localhost:8080/"
        },
        "id": "yVeilFcy7Vgl",
        "outputId": "9cc28578-4a6b-4991-befb-5573951dc23a"
      },
      "execution_count": null,
      "outputs": [
        {
          "output_type": "execute_result",
          "data": {
            "text/plain": [
              "50"
            ]
          },
          "metadata": {},
          "execution_count": 16
        }
      ]
    },
    {
      "cell_type": "code",
      "source": [
        "50 % 4"
      ],
      "metadata": {
        "colab": {
          "base_uri": "https://localhost:8080/"
        },
        "id": "b_9CBNI37fCP",
        "outputId": "6d49bb7d-be66-4e45-c7af-37c28b94c3f9"
      },
      "execution_count": null,
      "outputs": [
        {
          "output_type": "execute_result",
          "data": {
            "text/plain": [
              "2"
            ]
          },
          "metadata": {},
          "execution_count": 17
        }
      ]
    },
    {
      "cell_type": "markdown",
      "source": [
        "<br>\n",
        "<br>\n",
        "\n",
        "# **Aula 05 - Estruturas de Condição – IF e Else**\n",
        "\n",
        "<br>\n",
        "<br>\n",
        "\n",
        "___\n",
        "As estruturas de controle servem para decidir quais blocos de código serão executados.\n",
        "\n",
        "\n",
        "Exemplo:\n",
        "\n",
        "    Se estiver nublado:\n",
        "  \n",
        "        Levarei guarda-chuva\n",
        "\n",
        "    Senão:\n",
        "      \n",
        "        Não levarei\n",
        "\n",
        "\n",
        "No Python, os comandos de controle de fluxo são o **if** e o **else**.\n",
        "\n",
        "```\n",
        "if <condicao>:\n",
        "  comando\n",
        "```"
      ],
      "metadata": {
        "id": "O29fsEqB8ZK7"
      }
    },
    {
      "cell_type": "code",
      "source": [
        "soma = 10 + 2\n",
        "\n",
        "if soma > 20:\n",
        "  print('A soma é maior que 20.')\n",
        "\n",
        "else:\n",
        "  print('A soma não é maior que 20.')"
      ],
      "metadata": {
        "colab": {
          "base_uri": "https://localhost:8080/"
        },
        "id": "HdoLEVVn8p1K",
        "outputId": "4233ea23-4869-439a-96d1-26834feae311"
      },
      "execution_count": null,
      "outputs": [
        {
          "output_type": "stream",
          "name": "stdout",
          "text": [
            "A soma não é maior que 20.\n"
          ]
        }
      ]
    },
    {
      "cell_type": "code",
      "source": [
        "a = 20\n",
        "b = 30\n",
        "\n",
        "if a > b:\n",
        "  print(f'{a} é maior do que {b}.')\n",
        "\n",
        "elif a < b:\n",
        "  print(f'{a} é menor do que {b}.')\n",
        "\n",
        "else:\n",
        "  print('Os valores são iguais.')"
      ],
      "metadata": {
        "colab": {
          "base_uri": "https://localhost:8080/"
        },
        "id": "G-HvrPfS9avS",
        "outputId": "009629c3-06cb-4bef-85a1-3950ce8df368"
      },
      "execution_count": null,
      "outputs": [
        {
          "output_type": "stream",
          "name": "stdout",
          "text": [
            "20 é menor do que 30.\n"
          ]
        }
      ]
    },
    {
      "cell_type": "markdown",
      "source": [
        "**Exercício 1:** Escreva um programa que dado uma média informa se o aluno está reprovado, aprovado ou de recuperação.\n",
        "\n",
        "Média 7."
      ],
      "metadata": {
        "id": "iSlK-eJJAEWZ"
      }
    },
    {
      "cell_type": "code",
      "source": [
        "nota_aluno = int(input('Digite sua nota: '))\n",
        "\n",
        "# Nota máxima: 10. Média: 7. Nota de recuperação 6 ou 5. Nota de reprovação: igual ou menor que 4.\n",
        "\n",
        "if (nota_aluno >= 7) and (nota_aluno <= 10):\n",
        "  print(f'Parabéns! Você foi aprovado com a nota {nota_aluno}.')\n",
        "\n",
        "elif (nota_aluno < 7) and (nota_aluno >= 5):\n",
        "  print(f'Você está em recuperação, com a nota {nota_aluno}.')\n",
        "\n",
        "elif (nota_aluno > 10):\n",
        "  print(f'Nota inválida.')\n",
        "\n",
        "else:\n",
        "  print('Você foi reprovado.')\n"
      ],
      "metadata": {
        "colab": {
          "base_uri": "https://localhost:8080/"
        },
        "id": "zhI-glh29aj5",
        "outputId": "18eefd16-4c14-4c00-f3c9-45de2bf07e9f"
      },
      "execution_count": null,
      "outputs": [
        {
          "output_type": "stream",
          "name": "stdout",
          "text": [
            "Digite sua nota: 9\n",
            "Parabéns! Você foi aprovado com a nota 9.\n"
          ]
        }
      ]
    },
    {
      "cell_type": "markdown",
      "source": [
        "**Exercício 2**: Escreva um programa que solicita o nome e a idade do usuário. Em seguida informe se ele é uma criança, pré-adolescente, adolescente ou jovem.\n",
        "\n",
        "* Criança - 0 aos 9 anos\n",
        "* Pré-adolescente – dos 10 aos 14 anos,\n",
        "* Adolescente – dos 15 aos 19 anos completos\n",
        "* Jovem – dos 20 aos 24 anos."
      ],
      "metadata": {
        "id": "e_4KSuRGHdC1"
      }
    },
    {
      "cell_type": "code",
      "source": [
        "nome = (input('Digite seu nome: '))\n",
        "idade = int(input('Digite sua idade: '))\n",
        "\n",
        "if (idade <= 9):\n",
        "  print(f'Com base na idade informada, informamos que você, {nome}, é criança.')\n",
        "\n",
        "elif (idade <= 14):\n",
        "  print(f'Com base na idade informada, informamos que você, {nome}, é pré-adolescente.')\n",
        "\n",
        "elif (idade <= 19):\n",
        "  print(f'Com base na idade informada, informamos que você, {nome}, é adolescente.')\n",
        "\n",
        "elif (idade <= 24):\n",
        "  print(f'Com base na idade informada, informamos que você, {nome}, é jovem.')\n",
        "\n",
        "else:\n",
        "  print('você se enquadra em outras faixas etárias.')\n",
        "\n",
        "\n",
        "\n"
      ],
      "metadata": {
        "colab": {
          "base_uri": "https://localhost:8080/"
        },
        "id": "wU_6leYaHgne",
        "outputId": "a292ae66-17b3-40c4-a26e-0c1237ba947c"
      },
      "execution_count": null,
      "outputs": [
        {
          "output_type": "stream",
          "name": "stdout",
          "text": [
            "Digite seu nome: Rafael\n",
            "Digite sua idade: 23\n",
            "Com base na idade informada, informamos que você, Rafael, é jovem.\n"
          ]
        }
      ]
    }
  ]
}