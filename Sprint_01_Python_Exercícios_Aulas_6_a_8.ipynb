{
  "nbformat": 4,
  "nbformat_minor": 0,
  "metadata": {
    "colab": {
      "provenance": [],
      "authorship_tag": "ABX9TyOcOI264rL2p/TYybALbjff",
      "include_colab_link": true
    },
    "kernelspec": {
      "name": "python3",
      "display_name": "Python 3"
    },
    "language_info": {
      "name": "python"
    }
  },
  "cells": [
    {
      "cell_type": "markdown",
      "metadata": {
        "id": "view-in-github",
        "colab_type": "text"
      },
      "source": [
        "<a href=\"https://colab.research.google.com/github/rafaelpessi/Sirius-Bootcamp/blob/main/Sprint_01_Python_Exerc%C3%ADcios_Aulas_6_a_8.ipynb\" target=\"_parent\"><img src=\"https://colab.research.google.com/assets/colab-badge.svg\" alt=\"Open In Colab\"/></a>"
      ]
    },
    {
      "cell_type": "markdown",
      "source": [
        "<br>\n",
        "<br>\n",
        "\n",
        "# **Aula 06 - Estruturas de Dados – Listas**\n",
        "\n",
        "<br>\n",
        "<br>\n",
        "\n",
        "___\n",
        "\n",
        "Uma lista (list) em Python, é uma coleção de valores, separados por vírgula e dentro de colchetes [].\n",
        "\n",
        "**Métodos da Lista**\n",
        "* **append(x)**: Adiciona um item ao fim da lista.\n",
        "* **extend(iterable)**: Prolonga a lista, adicionando no fim todos os elementos passado como parâmetro.\n",
        "* **insert(i, x)**: Insere um item em uma dada posição. O primeiro argumento é o índice do elemento antes do qual será feita a inserção.\n",
        "* **remove(x)**: Remove o primeiro item encontrado na lista cujo valor é igual a x.\n",
        "* **pop([i])**: Remove um item em uma dada posição na lista e o retorna. Se nenhum índice é especificado, a.pop() remove e devolve o último item da lista.\n",
        "* **clear()**: Remove todos os itens de uma lista.\n",
        "* **index(x)**: Devolve o índice do primeiro item cujo valor é igual a x.\n",
        "* **count(x)**: Devolve o número de vezes em que x aparece na lista.\n",
        "* **sort(*, key=None, reverse=False)**: Ordena os itens na lista (os argumentos podem ser usados para personalizar a ordenação."
      ],
      "metadata": {
        "id": "GxAQeYiJ3cEr"
      }
    },
    {
      "cell_type": "code",
      "source": [
        "lista = []\n",
        "\n",
        "print(type(lista))"
      ],
      "metadata": {
        "colab": {
          "base_uri": "https://localhost:8080/"
        },
        "id": "9bKhaZGc3g19",
        "outputId": "1f9ea441-570e-404c-8043-aaef4a3ece2d"
      },
      "execution_count": null,
      "outputs": [
        {
          "output_type": "stream",
          "name": "stdout",
          "text": [
            "<class 'list'>\n"
          ]
        }
      ]
    },
    {
      "cell_type": "code",
      "source": [
        "lista = list()\n",
        "\n",
        "print(lista)"
      ],
      "metadata": {
        "colab": {
          "base_uri": "https://localhost:8080/"
        },
        "id": "1b1VTnDk4C0W",
        "outputId": "5d13a048-797c-482a-d89b-c033da352286"
      },
      "execution_count": null,
      "outputs": [
        {
          "output_type": "stream",
          "name": "stdout",
          "text": [
            "[]\n"
          ]
        }
      ]
    },
    {
      "cell_type": "code",
      "source": [
        "lista = ['Semana', 'Natal', 24, 25, 'domingo', 'dezembro', 'família', 'encontro', 'celebração']\n",
        "\n",
        "print(lista)"
      ],
      "metadata": {
        "colab": {
          "base_uri": "https://localhost:8080/"
        },
        "id": "JGlAZRzj4LP5",
        "outputId": "be87f434-434b-4797-8d0f-5a816af7fdc9"
      },
      "execution_count": null,
      "outputs": [
        {
          "output_type": "stream",
          "name": "stdout",
          "text": [
            "['Semana', 'Natal', 24, 25, 'domingo', 'dezembro']\n"
          ]
        }
      ]
    },
    {
      "cell_type": "code",
      "source": [
        "print(len(lista))"
      ],
      "metadata": {
        "colab": {
          "base_uri": "https://localhost:8080/"
        },
        "id": "jyYooJ8g4tlr",
        "outputId": "8957a4f2-68d6-4ebb-d9e9-85c7a5f44b8b"
      },
      "execution_count": null,
      "outputs": [
        {
          "output_type": "stream",
          "name": "stdout",
          "text": [
            "6\n"
          ]
        }
      ]
    },
    {
      "cell_type": "code",
      "source": [
        "           # 0           1          2        3        4          5\n",
        "           # -6         -5          -4      -3        -2        -1\n",
        "\n",
        "frutas = ['Abacate', 'Abacaxi', 'Laranja', 'Uva', 'Melancia', 'Mamão']"
      ],
      "metadata": {
        "id": "-ji60Cty48RY"
      },
      "execution_count": null,
      "outputs": []
    },
    {
      "cell_type": "code",
      "source": [
        "print(frutas[5])"
      ],
      "metadata": {
        "colab": {
          "base_uri": "https://localhost:8080/"
        },
        "id": "-bCeV-TZ562m",
        "outputId": "68c8c46c-82a4-464b-e2d9-308d40ddce8c"
      },
      "execution_count": null,
      "outputs": [
        {
          "output_type": "stream",
          "name": "stdout",
          "text": [
            "Mamão\n"
          ]
        }
      ]
    },
    {
      "cell_type": "code",
      "source": [
        "print(frutas[-5])"
      ],
      "metadata": {
        "colab": {
          "base_uri": "https://localhost:8080/"
        },
        "id": "oPlnTIbp6ptg",
        "outputId": "3a44fd1e-9527-4895-e360-951626c63154"
      },
      "execution_count": null,
      "outputs": [
        {
          "output_type": "stream",
          "name": "stdout",
          "text": [
            "Abacaxi\n"
          ]
        }
      ]
    },
    {
      "cell_type": "code",
      "source": [
        "print(len(frutas))"
      ],
      "metadata": {
        "colab": {
          "base_uri": "https://localhost:8080/"
        },
        "id": "yWr3tcnX7GQV",
        "outputId": "6984668d-d8ba-4c04-e3b8-6cf1470af028"
      },
      "execution_count": null,
      "outputs": [
        {
          "output_type": "stream",
          "name": "stdout",
          "text": [
            "6\n"
          ]
        }
      ]
    },
    {
      "cell_type": "code",
      "source": [
        "print(frutas[len(frutas)-1])"
      ],
      "metadata": {
        "colab": {
          "base_uri": "https://localhost:8080/"
        },
        "id": "62Xnshok7X3X",
        "outputId": "41bcd7b9-1c78-486c-c1de-4702aa74878b"
      },
      "execution_count": null,
      "outputs": [
        {
          "output_type": "stream",
          "name": "stdout",
          "text": [
            "Mamão\n"
          ]
        }
      ]
    },
    {
      "cell_type": "code",
      "source": [
        "frutas [3] = 'Pera'"
      ],
      "metadata": {
        "id": "V3quaut-75FA"
      },
      "execution_count": null,
      "outputs": []
    },
    {
      "cell_type": "code",
      "source": [
        "print(frutas)"
      ],
      "metadata": {
        "colab": {
          "base_uri": "https://localhost:8080/"
        },
        "id": "9PUO6UpG8GzA",
        "outputId": "b8f84b78-ddd1-480b-ca49-8015d3ffba2f"
      },
      "execution_count": null,
      "outputs": [
        {
          "output_type": "stream",
          "name": "stdout",
          "text": [
            "['Abacate', 'Abacaxi', 'Laranja', 'Pera', 'Melancia', 'Mamão']\n"
          ]
        }
      ]
    },
    {
      "cell_type": "markdown",
      "source": [
        "**Fatiando Listas**"
      ],
      "metadata": {
        "id": "XsWA6Tgv8TXt"
      }
    },
    {
      "cell_type": "code",
      "source": [
        "# lista [inicio:fim:passo]"
      ],
      "metadata": {
        "id": "srr3Qg8r8UQo"
      },
      "execution_count": null,
      "outputs": []
    },
    {
      "cell_type": "code",
      "source": [
        "lista = ['Semana', 'Natal', 24, 25, 'domingo', 'dezembro', 'família', 'encontro', 'celebração']\n",
        "\n",
        "print(lista[3:])"
      ],
      "metadata": {
        "colab": {
          "base_uri": "https://localhost:8080/"
        },
        "id": "iEC7WrUD8oze",
        "outputId": "56ef2f09-8e72-4a81-a050-f4816ad6b738"
      },
      "execution_count": null,
      "outputs": [
        {
          "output_type": "stream",
          "name": "stdout",
          "text": [
            "[25, 'domingo', 'dezembro', 'família', 'encontro', 'celebração']\n"
          ]
        }
      ]
    },
    {
      "cell_type": "markdown",
      "source": [
        "**Métodos da Lista**"
      ],
      "metadata": {
        "id": "ryypm89qJyxn"
      }
    },
    {
      "cell_type": "code",
      "source": [
        "lista.append('agradecer')"
      ],
      "metadata": {
        "id": "OPwJe9ebJvt3"
      },
      "execution_count": null,
      "outputs": []
    },
    {
      "cell_type": "code",
      "source": [
        "print(lista)"
      ],
      "metadata": {
        "colab": {
          "base_uri": "https://localhost:8080/"
        },
        "id": "fxEMpU-VJw9k",
        "outputId": "7f45a26e-d775-4d76-b2db-1919dbc348b5"
      },
      "execution_count": null,
      "outputs": [
        {
          "output_type": "stream",
          "name": "stdout",
          "text": [
            "['Semana', 'Natal', 24, 25, 'domingo', 'dezembro', 'família', 'encontro', 'celebração', 'confraternizar', 'agradecer']\n"
          ]
        }
      ]
    },
    {
      "cell_type": "code",
      "source": [
        "print(lista.index('família'))"
      ],
      "metadata": {
        "colab": {
          "base_uri": "https://localhost:8080/"
        },
        "id": "L_xnNuuvKnHM",
        "outputId": "fddde215-5dc5-4ea7-aee8-e5cd54648b9f"
      },
      "execution_count": null,
      "outputs": [
        {
          "output_type": "stream",
          "name": "stdout",
          "text": [
            "6\n"
          ]
        }
      ]
    },
    {
      "cell_type": "code",
      "source": [
        "lista.insert(3,'Domingo')"
      ],
      "metadata": {
        "id": "jdvN6Y6KL7-7"
      },
      "execution_count": null,
      "outputs": []
    },
    {
      "cell_type": "code",
      "source": [
        "print(lista)"
      ],
      "metadata": {
        "colab": {
          "base_uri": "https://localhost:8080/"
        },
        "id": "nBy0jEdmMI5F",
        "outputId": "531d00c0-59c9-4303-a10d-4dcdade331ee"
      },
      "execution_count": null,
      "outputs": [
        {
          "output_type": "stream",
          "name": "stdout",
          "text": [
            "['Semana', 'Natal', 24, 'Domingo', 25, 'dezembro', 'família', 'encontro', 'celebração', 'confraternizar', 'agradecer']\n"
          ]
        }
      ]
    },
    {
      "cell_type": "code",
      "source": [
        "lista.insert(5,'Segunda-feira')"
      ],
      "metadata": {
        "id": "7XDtZO8DMMk_"
      },
      "execution_count": null,
      "outputs": []
    },
    {
      "cell_type": "code",
      "source": [
        "print(lista)"
      ],
      "metadata": {
        "colab": {
          "base_uri": "https://localhost:8080/"
        },
        "id": "WgZ2RCjbMViY",
        "outputId": "17954812-215f-4d80-86e7-a2b22c465854"
      },
      "execution_count": null,
      "outputs": [
        {
          "output_type": "stream",
          "name": "stdout",
          "text": [
            "['Semana', 'Natal', 24, 'Domingo', 25, 'Segunda-feira', 'dezembro', 'família', 'encontro', 'celebração', 'confraternizar', 'agradecer']\n"
          ]
        }
      ]
    },
    {
      "cell_type": "code",
      "source": [
        "lista.pop()"
      ],
      "metadata": {
        "colab": {
          "base_uri": "https://localhost:8080/",
          "height": 35
        },
        "id": "a2yM_IKXM5AK",
        "outputId": "9634c109-ee86-4e3a-e312-90755bbda3be"
      },
      "execution_count": null,
      "outputs": [
        {
          "output_type": "execute_result",
          "data": {
            "text/plain": [
              "'agradecer'"
            ],
            "application/vnd.google.colaboratory.intrinsic+json": {
              "type": "string"
            }
          },
          "metadata": {},
          "execution_count": 41
        }
      ]
    },
    {
      "cell_type": "code",
      "source": [
        "print(lista)"
      ],
      "metadata": {
        "colab": {
          "base_uri": "https://localhost:8080/"
        },
        "id": "HczvUu1CM8sx",
        "outputId": "93919e10-ea3f-4c0b-a8a8-082c17484e86"
      },
      "execution_count": null,
      "outputs": [
        {
          "output_type": "stream",
          "name": "stdout",
          "text": [
            "['Semana', 'Natal', 24, 'Domingo', 25, 'Segunda-feira', 'dezembro', 'família', 'encontro', 'celebração', 'confraternizar']\n"
          ]
        }
      ]
    },
    {
      "cell_type": "code",
      "source": [
        "lista.pop(6)"
      ],
      "metadata": {
        "colab": {
          "base_uri": "https://localhost:8080/",
          "height": 35
        },
        "id": "iqOTezmCNFaW",
        "outputId": "cdfcaf44-66f6-4f03-9f42-e94127cb1b4e"
      },
      "execution_count": null,
      "outputs": [
        {
          "output_type": "execute_result",
          "data": {
            "text/plain": [
              "'dezembro'"
            ],
            "application/vnd.google.colaboratory.intrinsic+json": {
              "type": "string"
            }
          },
          "metadata": {},
          "execution_count": 43
        }
      ]
    },
    {
      "cell_type": "code",
      "source": [
        "print(lista)"
      ],
      "metadata": {
        "colab": {
          "base_uri": "https://localhost:8080/"
        },
        "id": "zKDyn4eRNIYR",
        "outputId": "21276fe9-0136-47d6-f354-e3bc54b13157"
      },
      "execution_count": null,
      "outputs": [
        {
          "output_type": "stream",
          "name": "stdout",
          "text": [
            "['Semana', 'Natal', 24, 'Domingo', 25, 'Segunda-feira', 'família', 'encontro', 'celebração', 'confraternizar']\n"
          ]
        }
      ]
    },
    {
      "cell_type": "code",
      "source": [
        "lista.insert(0,'Dezembro')"
      ],
      "metadata": {
        "id": "9H0N8rvFNLuk"
      },
      "execution_count": null,
      "outputs": []
    },
    {
      "cell_type": "code",
      "source": [
        "print(lista)"
      ],
      "metadata": {
        "colab": {
          "base_uri": "https://localhost:8080/"
        },
        "id": "aEWhb7A6NXi7",
        "outputId": "49466e50-c0d0-4eee-ced0-16e3aa516d78"
      },
      "execution_count": null,
      "outputs": [
        {
          "output_type": "stream",
          "name": "stdout",
          "text": [
            "['Dezembro', 'Semana', 'Natal', 24, 'Domingo', 25, 'Segunda-feira', 'família', 'encontro', 'celebração', 'confraternizar']\n"
          ]
        }
      ]
    },
    {
      "cell_type": "code",
      "source": [
        "lista.remove('encontro')"
      ],
      "metadata": {
        "colab": {
          "base_uri": "https://localhost:8080/",
          "height": 176
        },
        "id": "ESFmIZMhNiHt",
        "outputId": "4cf5cd3b-5c85-4b60-cdb3-4bdb3f8a9b60"
      },
      "execution_count": null,
      "outputs": [
        {
          "output_type": "error",
          "ename": "ValueError",
          "evalue": "ignored",
          "traceback": [
            "\u001b[0;31m---------------------------------------------------------------------------\u001b[0m",
            "\u001b[0;31mValueError\u001b[0m                                Traceback (most recent call last)",
            "\u001b[0;32m<ipython-input-61-cd48df98af93>\u001b[0m in \u001b[0;36m<cell line: 1>\u001b[0;34m()\u001b[0m\n\u001b[0;32m----> 1\u001b[0;31m \u001b[0mlista\u001b[0m\u001b[0;34m.\u001b[0m\u001b[0mremove\u001b[0m\u001b[0;34m(\u001b[0m\u001b[0;34m'encontro'\u001b[0m\u001b[0;34m)\u001b[0m\u001b[0;34m\u001b[0m\u001b[0;34m\u001b[0m\u001b[0m\n\u001b[0m",
            "\u001b[0;31mValueError\u001b[0m: list.remove(x): x not in list"
          ]
        }
      ]
    },
    {
      "cell_type": "code",
      "source": [
        "print(lista)"
      ],
      "metadata": {
        "colab": {
          "base_uri": "https://localhost:8080/"
        },
        "id": "D1E-3nu7Npnf",
        "outputId": "e86a6337-e351-4882-bb94-de4c7f0892bf"
      },
      "execution_count": null,
      "outputs": [
        {
          "output_type": "stream",
          "name": "stdout",
          "text": [
            "['Dezembro', 'Semana', 'Natal', 24, 'Domingo', 25, 'Segunda-feira', 'família', 'celebração', 'confraternizar']\n"
          ]
        }
      ]
    },
    {
      "cell_type": "code",
      "source": [
        "lista_2 = [65,78,93,21,34,65,44,0,1,9,7]"
      ],
      "metadata": {
        "id": "Xrfj51l2N6BQ"
      },
      "execution_count": null,
      "outputs": []
    },
    {
      "cell_type": "code",
      "source": [
        "lista_2.sort() # ordena em ordem crescente"
      ],
      "metadata": {
        "id": "yDfggPhROFnV"
      },
      "execution_count": null,
      "outputs": []
    },
    {
      "cell_type": "code",
      "source": [
        "print(lista_2)"
      ],
      "metadata": {
        "colab": {
          "base_uri": "https://localhost:8080/"
        },
        "id": "keRZomFROJ6X",
        "outputId": "dd05e7fe-d8b8-4fda-849c-06e0e3b0fed5"
      },
      "execution_count": null,
      "outputs": [
        {
          "output_type": "stream",
          "name": "stdout",
          "text": [
            "[0, 1, 7, 9, 21, 34, 44, 65, 65, 78, 93]\n"
          ]
        }
      ]
    },
    {
      "cell_type": "code",
      "source": [
        "lista_2.sort(reverse=True) # ordena em ordem decrescente"
      ],
      "metadata": {
        "id": "NgHVRygPONiO"
      },
      "execution_count": null,
      "outputs": []
    },
    {
      "cell_type": "code",
      "source": [
        "print(lista_2)"
      ],
      "metadata": {
        "colab": {
          "base_uri": "https://localhost:8080/"
        },
        "id": "U_c7HSI5Tcd6",
        "outputId": "0520593b-4fcb-4325-ae7f-c9d193c07f79"
      },
      "execution_count": null,
      "outputs": [
        {
          "output_type": "stream",
          "name": "stdout",
          "text": [
            "[93, 78, 65, 65, 44, 34, 21, 9, 7, 1, 0]\n"
          ]
        }
      ]
    },
    {
      "cell_type": "code",
      "source": [
        "lista_2.append(44)"
      ],
      "metadata": {
        "id": "wTgYPjDATqH4"
      },
      "execution_count": null,
      "outputs": []
    },
    {
      "cell_type": "code",
      "source": [
        "print(lista_2)"
      ],
      "metadata": {
        "colab": {
          "base_uri": "https://localhost:8080/"
        },
        "id": "bew-XdA2Twcp",
        "outputId": "908084af-746a-4e1d-dc42-38bea2cdb4c9"
      },
      "execution_count": null,
      "outputs": [
        {
          "output_type": "stream",
          "name": "stdout",
          "text": [
            "[93, 78, 65, 65, 44, 34, 21, 9, 7, 1, 0, '44', 44]\n"
          ]
        }
      ]
    },
    {
      "cell_type": "code",
      "source": [
        "lista_2.pop(11)"
      ],
      "metadata": {
        "colab": {
          "base_uri": "https://localhost:8080/",
          "height": 35
        },
        "id": "egKRWZoMUQ4U",
        "outputId": "0554a70a-caae-498f-cfb9-de48e457c5b1"
      },
      "execution_count": null,
      "outputs": [
        {
          "output_type": "execute_result",
          "data": {
            "text/plain": [
              "'44'"
            ],
            "application/vnd.google.colaboratory.intrinsic+json": {
              "type": "string"
            }
          },
          "metadata": {},
          "execution_count": 64
        }
      ]
    },
    {
      "cell_type": "code",
      "source": [
        "print(lista_2)"
      ],
      "metadata": {
        "colab": {
          "base_uri": "https://localhost:8080/"
        },
        "id": "t8HuBavcUoJG",
        "outputId": "65618d93-25d1-414c-e6c7-4edaee7dd65e"
      },
      "execution_count": null,
      "outputs": [
        {
          "output_type": "stream",
          "name": "stdout",
          "text": [
            "[93, 78, 65, 65, 44, 34, 21, 9, 7, 1, 0, 44]\n"
          ]
        }
      ]
    },
    {
      "cell_type": "code",
      "source": [
        "print(lista_2.count(44))"
      ],
      "metadata": {
        "colab": {
          "base_uri": "https://localhost:8080/"
        },
        "id": "zp70AP_OUpuB",
        "outputId": "a2f01411-d901-4a6c-b618-071077d6cc10"
      },
      "execution_count": null,
      "outputs": [
        {
          "output_type": "stream",
          "name": "stdout",
          "text": [
            "2\n"
          ]
        }
      ]
    },
    {
      "cell_type": "code",
      "source": [
        "lista_2.extend([56,78,94])"
      ],
      "metadata": {
        "id": "Ijmsxtm1VJzA"
      },
      "execution_count": null,
      "outputs": []
    },
    {
      "cell_type": "code",
      "source": [
        "print(lista_2)"
      ],
      "metadata": {
        "colab": {
          "base_uri": "https://localhost:8080/"
        },
        "id": "Oqti10M-Vbol",
        "outputId": "aaa26136-481d-4417-bc70-67fa9fb471f5"
      },
      "execution_count": null,
      "outputs": [
        {
          "output_type": "stream",
          "name": "stdout",
          "text": [
            "[93, 78, 65, 65, 44, 34, 21, 9, 7, 1, 0, 44, 56, 78, 94]\n"
          ]
        }
      ]
    },
    {
      "cell_type": "code",
      "source": [
        "lista_2.sort()"
      ],
      "metadata": {
        "id": "38-2ynEiVhAz"
      },
      "execution_count": null,
      "outputs": []
    },
    {
      "cell_type": "code",
      "source": [
        "print(lista_2)"
      ],
      "metadata": {
        "colab": {
          "base_uri": "https://localhost:8080/"
        },
        "id": "KZ4mzKbGViPD",
        "outputId": "76e9d4f9-dfee-43f8-e9d8-a2e3f0d83519"
      },
      "execution_count": null,
      "outputs": [
        {
          "output_type": "stream",
          "name": "stdout",
          "text": [
            "[0, 1, 7, 9, 21, 34, 44, 44, 56, 65, 65, 78, 78, 93, 94]\n"
          ]
        }
      ]
    },
    {
      "cell_type": "code",
      "source": [
        "lista_2.pop(6)"
      ],
      "metadata": {
        "colab": {
          "base_uri": "https://localhost:8080/"
        },
        "id": "0gH_SI9mVmyQ",
        "outputId": "65c67cba-58f7-4434-ee72-d5f25c453fed"
      },
      "execution_count": null,
      "outputs": [
        {
          "output_type": "execute_result",
          "data": {
            "text/plain": [
              "44"
            ]
          },
          "metadata": {},
          "execution_count": 74
        }
      ]
    },
    {
      "cell_type": "code",
      "source": [
        "print(lista_2)"
      ],
      "metadata": {
        "colab": {
          "base_uri": "https://localhost:8080/"
        },
        "id": "T4idwpHwVxFK",
        "outputId": "1f0e2f8b-f2ba-4d9f-d9ca-6c90fd6ffed1"
      },
      "execution_count": null,
      "outputs": [
        {
          "output_type": "stream",
          "name": "stdout",
          "text": [
            "[0, 1, 7, 9, 21, 34, 44, 56, 65, 65, 78, 78, 93, 94]\n"
          ]
        }
      ]
    },
    {
      "cell_type": "code",
      "source": [
        "lista_2.clear()"
      ],
      "metadata": {
        "id": "pI5T42wVV0r8"
      },
      "execution_count": null,
      "outputs": []
    },
    {
      "cell_type": "code",
      "source": [
        "print(lista_2)"
      ],
      "metadata": {
        "colab": {
          "base_uri": "https://localhost:8080/"
        },
        "id": "SimJWCMRWA3J",
        "outputId": "ab66908f-2575-4017-b133-d83d0bb29e5e"
      },
      "execution_count": null,
      "outputs": [
        {
          "output_type": "stream",
          "name": "stdout",
          "text": [
            "[]\n"
          ]
        }
      ]
    },
    {
      "cell_type": "code",
      "source": [
        "del (lista_2)"
      ],
      "metadata": {
        "id": "9MAj6nJ5WDNm"
      },
      "execution_count": null,
      "outputs": []
    },
    {
      "cell_type": "code",
      "source": [
        "print(lista_2)"
      ],
      "metadata": {
        "colab": {
          "base_uri": "https://localhost:8080/",
          "height": 176
        },
        "id": "3Lx7QsqKWSrY",
        "outputId": "b34ff2bd-1f93-40cb-ed13-eef926fe7dd6"
      },
      "execution_count": null,
      "outputs": [
        {
          "output_type": "error",
          "ename": "NameError",
          "evalue": "ignored",
          "traceback": [
            "\u001b[0;31m---------------------------------------------------------------------------\u001b[0m",
            "\u001b[0;31mNameError\u001b[0m                                 Traceback (most recent call last)",
            "\u001b[0;32m<ipython-input-79-83c486d954f4>\u001b[0m in \u001b[0;36m<cell line: 1>\u001b[0;34m()\u001b[0m\n\u001b[0;32m----> 1\u001b[0;31m \u001b[0mprint\u001b[0m\u001b[0;34m(\u001b[0m\u001b[0mlista_2\u001b[0m\u001b[0;34m)\u001b[0m\u001b[0;34m\u001b[0m\u001b[0;34m\u001b[0m\u001b[0m\n\u001b[0m",
            "\u001b[0;31mNameError\u001b[0m: name 'lista_2' is not defined"
          ]
        }
      ]
    },
    {
      "cell_type": "markdown",
      "source": [
        "<br>\n",
        "<br>\n",
        "\n",
        "# **Aula 07 - Estruturas de Dados – Tuplas**\n",
        "\n",
        "<br>\n",
        "<br>\n",
        "\n",
        "___\n",
        "Tupla é um tipo de estrutura de dados utilizada em Python que funciona de modo semelhante a uma lista, entretanto, com a característica principal de ser imutável.\n",
        "\n",
        "Uma tupla consiste em uma sequência de valores separados por vírgulas."
      ],
      "metadata": {
        "id": "AbR-sqivX2JF"
      }
    },
    {
      "cell_type": "code",
      "source": [
        "tupla = ()"
      ],
      "metadata": {
        "id": "8LAg6QQ3X1BF"
      },
      "execution_count": null,
      "outputs": []
    },
    {
      "cell_type": "code",
      "source": [
        "print(type(tupla))"
      ],
      "metadata": {
        "colab": {
          "base_uri": "https://localhost:8080/"
        },
        "id": "FA7eyAE30u9N",
        "outputId": "5864f512-6ef0-4133-8d9c-99444d0d1989"
      },
      "execution_count": null,
      "outputs": [
        {
          "output_type": "stream",
          "name": "stdout",
          "text": [
            "<class 'tuple'>\n"
          ]
        }
      ]
    },
    {
      "cell_type": "code",
      "source": [
        "tupla = tuple()"
      ],
      "metadata": {
        "id": "hLYiMU_t1Eq2"
      },
      "execution_count": null,
      "outputs": []
    },
    {
      "cell_type": "code",
      "source": [
        "print(type(tupla))"
      ],
      "metadata": {
        "colab": {
          "base_uri": "https://localhost:8080/"
        },
        "id": "WMCVXYQB1QEi",
        "outputId": "a0967b7f-8ba1-4412-89b2-362c2ff9ea20"
      },
      "execution_count": null,
      "outputs": [
        {
          "output_type": "stream",
          "name": "stdout",
          "text": [
            "<class 'tuple'>\n"
          ]
        }
      ]
    },
    {
      "cell_type": "code",
      "source": [
        "tupla = ('Segunda-feira','18','Dezembro')"
      ],
      "metadata": {
        "id": "EKQT1RBn1wfe"
      },
      "execution_count": null,
      "outputs": []
    },
    {
      "cell_type": "code",
      "source": [
        "print(tupla)"
      ],
      "metadata": {
        "colab": {
          "base_uri": "https://localhost:8080/"
        },
        "id": "Vb20j6ok2CNP",
        "outputId": "f3c777e8-2e39-4f1f-c5c0-558eb9954483"
      },
      "execution_count": null,
      "outputs": [
        {
          "output_type": "stream",
          "name": "stdout",
          "text": [
            "('Segunda-feira', '18', 'Dezembro')\n"
          ]
        }
      ]
    },
    {
      "cell_type": "markdown",
      "source": [
        "**Acessando Elementos da Tupla**"
      ],
      "metadata": {
        "id": "o8mMbm_H2cAP"
      }
    },
    {
      "cell_type": "code",
      "source": [
        "print(tupla[0],tupla[1],tupla[2])"
      ],
      "metadata": {
        "colab": {
          "base_uri": "https://localhost:8080/"
        },
        "id": "KGzVrqgs2c2J",
        "outputId": "6dd966cf-b58e-49b3-dd37-6a2858fff48a"
      },
      "execution_count": null,
      "outputs": [
        {
          "output_type": "stream",
          "name": "stdout",
          "text": [
            "Segunda-feira 18 Dezembro\n"
          ]
        }
      ]
    },
    {
      "cell_type": "code",
      "source": [
        "tupla[1] = 19"
      ],
      "metadata": {
        "colab": {
          "base_uri": "https://localhost:8080/",
          "height": 176
        },
        "id": "giNGT0Ax3BtB",
        "outputId": "c9e8d7f9-f6b0-4793-836c-aa54ebcc2fd9"
      },
      "execution_count": null,
      "outputs": [
        {
          "output_type": "error",
          "ename": "TypeError",
          "evalue": "ignored",
          "traceback": [
            "\u001b[0;31m---------------------------------------------------------------------------\u001b[0m",
            "\u001b[0;31mTypeError\u001b[0m                                 Traceback (most recent call last)",
            "\u001b[0;32m<ipython-input-12-3b23c7168a00>\u001b[0m in \u001b[0;36m<cell line: 1>\u001b[0;34m()\u001b[0m\n\u001b[0;32m----> 1\u001b[0;31m \u001b[0mtupla\u001b[0m\u001b[0;34m[\u001b[0m\u001b[0;36m1\u001b[0m\u001b[0;34m]\u001b[0m \u001b[0;34m=\u001b[0m \u001b[0;36m19\u001b[0m\u001b[0;34m\u001b[0m\u001b[0;34m\u001b[0m\u001b[0m\n\u001b[0m",
            "\u001b[0;31mTypeError\u001b[0m: 'tuple' object does not support item assignment"
          ]
        }
      ]
    },
    {
      "cell_type": "code",
      "source": [
        "numeros = 2,3,4,5,6,7,8,9,8,7,6,5,4,3,2"
      ],
      "metadata": {
        "id": "MpxwmUaH3YAh"
      },
      "execution_count": null,
      "outputs": []
    },
    {
      "cell_type": "code",
      "source": [
        "numeros.count(9)"
      ],
      "metadata": {
        "colab": {
          "base_uri": "https://localhost:8080/"
        },
        "id": "ZYDUnjWq3gfU",
        "outputId": "353c0240-b331-469e-93f2-94150d5bfe10"
      },
      "execution_count": null,
      "outputs": [
        {
          "output_type": "execute_result",
          "data": {
            "text/plain": [
              "1"
            ]
          },
          "metadata": {},
          "execution_count": 17
        }
      ]
    },
    {
      "cell_type": "code",
      "source": [
        "numeros.index(7)"
      ],
      "metadata": {
        "colab": {
          "base_uri": "https://localhost:8080/"
        },
        "id": "LX4vhh0E3-VJ",
        "outputId": "4eb7babe-1d98-45ae-8c4c-978b282e78f7"
      },
      "execution_count": null,
      "outputs": [
        {
          "output_type": "execute_result",
          "data": {
            "text/plain": [
              "5"
            ]
          },
          "metadata": {},
          "execution_count": 18
        }
      ]
    },
    {
      "cell_type": "code",
      "source": [
        "tuplas = ([18,19,20],['segunda','terça','quarta'])"
      ],
      "metadata": {
        "id": "db6fDFOa4VHy"
      },
      "execution_count": null,
      "outputs": []
    },
    {
      "cell_type": "code",
      "source": [
        "print(tuplas)"
      ],
      "metadata": {
        "colab": {
          "base_uri": "https://localhost:8080/"
        },
        "id": "-WVcIM-u4hZb",
        "outputId": "d916142e-079a-4020-e45a-60930fada8f4"
      },
      "execution_count": null,
      "outputs": [
        {
          "output_type": "stream",
          "name": "stdout",
          "text": [
            "([18, 19, 20], ['segunda', 'terça', 'quarta'])\n"
          ]
        }
      ]
    },
    {
      "cell_type": "code",
      "source": [
        "lista = [('Segunda',18),('Terça,19')]"
      ],
      "metadata": {
        "id": "yZSX4uWE41uF"
      },
      "execution_count": null,
      "outputs": []
    },
    {
      "cell_type": "code",
      "source": [
        "print(lista)"
      ],
      "metadata": {
        "colab": {
          "base_uri": "https://localhost:8080/"
        },
        "id": "wtwnQW9c5GiS",
        "outputId": "7a77b4b9-73f0-435d-c4e8-3afe2829b45b"
      },
      "execution_count": null,
      "outputs": [
        {
          "output_type": "stream",
          "name": "stdout",
          "text": [
            "[('Segunda', 18), 'Terça,19']\n"
          ]
        }
      ]
    },
    {
      "cell_type": "markdown",
      "source": [
        "<br>\n",
        "<br>\n",
        "\n",
        "# **Aula 08 - Estruturas de Dados - Dicionários**\n",
        "\n",
        "<br>\n",
        "<br>\n",
        "\n",
        "___\n",
        "\n",
        "\n",
        "Um dicionário é um tipo de estrutura de dados do tipo coleção, ou seja, um objeto que contém mais de um valor.\n",
        "\n",
        "Diferentemente das listas e tuplas em que os elementos são acessados através de uma posição ou índice, nos dicionários o acesso às informações ocorrem através de chaves. Além disso, os elementos de um dicionário são armazenados de forma não ordenada.\n",
        "\n",
        "**Métodos dos Dicionários**\n",
        "* **get(key[,default])**: Retorna o valor da chave se a chave estiver no dicionário, senão default.\n",
        "* **keys()**: Retorna as chaves do dicionário.\n",
        "* **values()**: Retorna os valores do dicionário.\n",
        "* **items()**: Retorna uma nova visão dos itens do dicionário (pares).\n",
        "* **pop(key[,default])**: Se a chave estiver no dicionário, remova-a e retorne seu valor, senão retorne default.\n",
        "* **popitem()**: Remove o último elemento do dicionário.\n",
        "* **clear()**: Remova todos os itens do dicionário.\n",
        "* **update()**: Atualize o dicionário com os pares chave/valor."
      ],
      "metadata": {
        "id": "s7MNPe-95RQ6"
      }
    },
    {
      "cell_type": "markdown",
      "source": [
        "**Criando dicionários**"
      ],
      "metadata": {
        "id": "2VhTkyjN5Snu"
      }
    },
    {
      "cell_type": "code",
      "source": [
        "dicionario = {}"
      ],
      "metadata": {
        "id": "vqle3Dpo5Wv9"
      },
      "execution_count": null,
      "outputs": []
    },
    {
      "cell_type": "code",
      "source": [
        "print(type(dicionario))"
      ],
      "metadata": {
        "colab": {
          "base_uri": "https://localhost:8080/"
        },
        "id": "H05DBEfWLjyY",
        "outputId": "28baf1aa-7e54-4cda-db84-2a68945a680b"
      },
      "execution_count": null,
      "outputs": [
        {
          "output_type": "stream",
          "name": "stdout",
          "text": [
            "<class 'dict'>\n"
          ]
        }
      ]
    },
    {
      "cell_type": "code",
      "source": [
        "dicionario = dict(primeiro=1, segundo=2)"
      ],
      "metadata": {
        "id": "F7I3pXEULsRf"
      },
      "execution_count": null,
      "outputs": []
    },
    {
      "cell_type": "code",
      "source": [
        "print(dicionario)"
      ],
      "metadata": {
        "colab": {
          "base_uri": "https://localhost:8080/"
        },
        "id": "pOC9UmCgMGZX",
        "outputId": "1b7dec1c-bb59-4460-b88a-b8cd8d8783b9"
      },
      "execution_count": null,
      "outputs": [
        {
          "output_type": "stream",
          "name": "stdout",
          "text": [
            "{'primeiro': 1, 'segundo': 2}\n"
          ]
        }
      ]
    },
    {
      "cell_type": "code",
      "source": [
        "dicionario = {1: 'Rafael',2: 'Patricia', 3: 'Venicio', 4: 'Antonieta'}"
      ],
      "metadata": {
        "id": "JsNxuHlxMYBg"
      },
      "execution_count": null,
      "outputs": []
    },
    {
      "cell_type": "code",
      "source": [
        "print(dicionario)"
      ],
      "metadata": {
        "colab": {
          "base_uri": "https://localhost:8080/"
        },
        "id": "TZa4HlfwM5Iy",
        "outputId": "e41ec01d-f746-4210-f07f-b9070db5d7fc"
      },
      "execution_count": null,
      "outputs": [
        {
          "output_type": "stream",
          "name": "stdout",
          "text": [
            "{1: 'Rafael', 2: 'Patricia', 3: 'Venicio', 4: 'Antonieta'}\n"
          ]
        }
      ]
    },
    {
      "cell_type": "code",
      "source": [
        "dicionario = {'Nome': 'Rafael','Idade': '51', 'Altura': '1.82', 'Peso': '90'}"
      ],
      "metadata": {
        "id": "w_s7TLXkNLLJ"
      },
      "execution_count": null,
      "outputs": []
    },
    {
      "cell_type": "code",
      "source": [
        "print(dicionario)"
      ],
      "metadata": {
        "colab": {
          "base_uri": "https://localhost:8080/"
        },
        "id": "OkXjzfVKNp1s",
        "outputId": "fdfee1ca-8dc5-43f9-e09f-15cd438e8fcf"
      },
      "execution_count": null,
      "outputs": [
        {
          "output_type": "stream",
          "name": "stdout",
          "text": [
            "{'Nome': 'Rafael', 'Idade': '51', 'Altura': '1.82', 'Peso': '90'}\n"
          ]
        }
      ]
    },
    {
      "cell_type": "code",
      "source": [
        "print(len(dicionario))"
      ],
      "metadata": {
        "colab": {
          "base_uri": "https://localhost:8080/"
        },
        "id": "acJ-LDPDOuxl",
        "outputId": "a682d637-2e7e-43d8-ee39-f673eef37299"
      },
      "execution_count": null,
      "outputs": [
        {
          "output_type": "stream",
          "name": "stdout",
          "text": [
            "4\n"
          ]
        }
      ]
    },
    {
      "cell_type": "markdown",
      "source": [
        "**Acessando itens**"
      ],
      "metadata": {
        "id": "NTlwnhGAO7K2"
      }
    },
    {
      "cell_type": "code",
      "source": [
        "print(dicionario['Idade'])"
      ],
      "metadata": {
        "colab": {
          "base_uri": "https://localhost:8080/"
        },
        "id": "i3dyE8tHO8u5",
        "outputId": "9d88b1f3-42e0-4b8c-b508-578fd210306b"
      },
      "execution_count": null,
      "outputs": [
        {
          "output_type": "stream",
          "name": "stdout",
          "text": [
            "51\n"
          ]
        }
      ]
    },
    {
      "cell_type": "code",
      "source": [
        "# get()\n",
        "\n",
        "print(dicionario.get('Nome'))"
      ],
      "metadata": {
        "colab": {
          "base_uri": "https://localhost:8080/"
        },
        "id": "wVq8gItsPjtv",
        "outputId": "3a1a5a78-dff4-4926-b364-efd2b09285a8"
      },
      "execution_count": null,
      "outputs": [
        {
          "output_type": "stream",
          "name": "stdout",
          "text": [
            "Rafael\n"
          ]
        }
      ]
    },
    {
      "cell_type": "code",
      "source": [
        "# keys\n",
        "\n",
        "print(dicionario.keys())"
      ],
      "metadata": {
        "colab": {
          "base_uri": "https://localhost:8080/"
        },
        "id": "a_kCgLFhQYtj",
        "outputId": "c786f024-6f50-461a-967f-e5fa19a72667"
      },
      "execution_count": null,
      "outputs": [
        {
          "output_type": "stream",
          "name": "stdout",
          "text": [
            "dict_keys(['Nome', 'Idade', 'Altura', 'Peso'])\n"
          ]
        }
      ]
    },
    {
      "cell_type": "code",
      "source": [
        "list(dicionario)"
      ],
      "metadata": {
        "colab": {
          "base_uri": "https://localhost:8080/"
        },
        "id": "npzwFkDSQvEf",
        "outputId": "be1dcd57-a61f-46f7-ce0a-b50fb05a5cc7"
      },
      "execution_count": null,
      "outputs": [
        {
          "output_type": "execute_result",
          "data": {
            "text/plain": [
              "['Nome', 'Idade', 'Altura', 'Peso']"
            ]
          },
          "metadata": {},
          "execution_count": 23
        }
      ]
    },
    {
      "cell_type": "code",
      "source": [
        "# values ()\n",
        "\n",
        "print(dicionario.values())"
      ],
      "metadata": {
        "colab": {
          "base_uri": "https://localhost:8080/"
        },
        "id": "jaSE1ajtQyo3",
        "outputId": "3ac43fcf-1578-4550-c5fc-8d684fd1b3b4"
      },
      "execution_count": null,
      "outputs": [
        {
          "output_type": "stream",
          "name": "stdout",
          "text": [
            "dict_values(['Rafael', '51', '1.82', '90'])\n"
          ]
        }
      ]
    },
    {
      "cell_type": "code",
      "source": [
        "# pop()\n",
        "\n",
        "dicionario.pop('Altura')"
      ],
      "metadata": {
        "colab": {
          "base_uri": "https://localhost:8080/",
          "height": 35
        },
        "id": "UaAA3H4qRKDs",
        "outputId": "9498438f-cb84-400c-a35d-59ab1e983e3e"
      },
      "execution_count": null,
      "outputs": [
        {
          "output_type": "execute_result",
          "data": {
            "text/plain": [
              "'1.82'"
            ],
            "application/vnd.google.colaboratory.intrinsic+json": {
              "type": "string"
            }
          },
          "metadata": {},
          "execution_count": 31
        }
      ]
    },
    {
      "cell_type": "code",
      "source": [
        "del dicionario['Peso']\n"
      ],
      "metadata": {
        "colab": {
          "base_uri": "https://localhost:8080/"
        },
        "id": "GLdzkaWeR0XY",
        "outputId": "6fc942dd-2113-4492-d369-39f91e7488a6"
      },
      "execution_count": null,
      "outputs": [
        {
          "output_type": "stream",
          "name": "stdout",
          "text": [
            "{'Nome': 'Rafael', 'Idade': '51', 'Altura': '1.82'}\n"
          ]
        }
      ]
    },
    {
      "cell_type": "code",
      "source": [
        "print(dicionario)"
      ],
      "metadata": {
        "colab": {
          "base_uri": "https://localhost:8080/"
        },
        "id": "AHFcXR4xRlgq",
        "outputId": "2637c93e-56a0-46db-8a46-194b5abe7ea5"
      },
      "execution_count": null,
      "outputs": [
        {
          "output_type": "stream",
          "name": "stdout",
          "text": [
            "{'Nome': 'Rafael', 'Idade': '51'}\n"
          ]
        }
      ]
    },
    {
      "cell_type": "code",
      "source": [
        "# popitem()\n",
        "\n",
        "dicionario.popitem()\n",
        "\n",
        "print(dicionario)"
      ],
      "metadata": {
        "colab": {
          "base_uri": "https://localhost:8080/"
        },
        "id": "XYc2MSt3SgVt",
        "outputId": "7df7fd8d-9313-406f-c756-fc1dd23b9fea"
      },
      "execution_count": null,
      "outputs": [
        {
          "output_type": "stream",
          "name": "stdout",
          "text": [
            "{'Nome': 'Rafael'}\n"
          ]
        }
      ]
    },
    {
      "cell_type": "code",
      "source": [
        "# Adicionar itens\n",
        "\n",
        "dicionario['Idade'] = '51'"
      ],
      "metadata": {
        "id": "8FTFh9VGTQQ4"
      },
      "execution_count": null,
      "outputs": []
    },
    {
      "cell_type": "code",
      "source": [
        "dicionario['Peso'] = '90'"
      ],
      "metadata": {
        "id": "E_WZ_rfITuzK"
      },
      "execution_count": null,
      "outputs": []
    },
    {
      "cell_type": "code",
      "source": [
        "dicionario['Altura'] = '1.82'"
      ],
      "metadata": {
        "id": "7Umg40XiT0hs"
      },
      "execution_count": null,
      "outputs": []
    },
    {
      "cell_type": "code",
      "source": [
        "print(dicionario)"
      ],
      "metadata": {
        "colab": {
          "base_uri": "https://localhost:8080/"
        },
        "id": "Ez3WE0VnT7tT",
        "outputId": "551d1753-61fa-4df4-91d2-e2098ecd2829"
      },
      "execution_count": null,
      "outputs": [
        {
          "output_type": "stream",
          "name": "stdout",
          "text": [
            "{'Nome': 'Rafael', 'Idade': '51', 'Peso': '90', 'Altura': '1.82'}\n"
          ]
        }
      ]
    },
    {
      "cell_type": "code",
      "source": [
        "# Update ()\n",
        "\n",
        "dicionario.update({'Nome':'Rafael Pessi'})\n",
        "\n",
        "print(dicionario)"
      ],
      "metadata": {
        "colab": {
          "base_uri": "https://localhost:8080/"
        },
        "id": "l-T9lzK7UDPx",
        "outputId": "ba9b3f74-6a7f-48b7-b489-cf868411c8e0"
      },
      "execution_count": null,
      "outputs": [
        {
          "output_type": "stream",
          "name": "stdout",
          "text": [
            "{'Nome': 'Rafael Pessi', 'Idade': '51', 'Peso': '90', 'Altura': '1.82'}\n"
          ]
        }
      ]
    },
    {
      "cell_type": "code",
      "source": [
        "# Clear()\n",
        "\n",
        "dicionario.clear()\n",
        "\n",
        "print(dicionario)"
      ],
      "metadata": {
        "colab": {
          "base_uri": "https://localhost:8080/"
        },
        "id": "rXGbc-6fVjbv",
        "outputId": "ac50398d-f391-4caa-8707-0813244c66b1"
      },
      "execution_count": null,
      "outputs": [
        {
          "output_type": "stream",
          "name": "stdout",
          "text": [
            "{}\n"
          ]
        }
      ]
    },
    {
      "cell_type": "code",
      "source": [
        "del dicionario"
      ],
      "metadata": {
        "id": "D2HQJmB1V8U4"
      },
      "execution_count": null,
      "outputs": []
    },
    {
      "cell_type": "code",
      "source": [
        "pessoa = {'Idade': '51', 'Altura': '1.82', 'Peso': '90', 'Nome': 'Rafael'}"
      ],
      "metadata": {
        "id": "ZCjunJ0nWLU3"
      },
      "execution_count": null,
      "outputs": []
    },
    {
      "cell_type": "code",
      "source": [
        "print(pessoa)"
      ],
      "metadata": {
        "colab": {
          "base_uri": "https://localhost:8080/"
        },
        "id": "tZaSixPiWYKi",
        "outputId": "21762005-5e02-4e50-b65a-f55ecbf5699e"
      },
      "execution_count": null,
      "outputs": [
        {
          "output_type": "stream",
          "name": "stdout",
          "text": [
            "{'Idade': '51', 'Altura': '1.82', 'Peso': '90', 'Nome': 'Rafael'}\n"
          ]
        }
      ]
    },
    {
      "cell_type": "code",
      "source": [
        "# Reordenando os elementos - Precisa criar outro dicionário com as chaves daquele que será utilizado como base\n",
        "\n",
        "nova_ordem = {'Nome': pessoa['Nome'], 'Altura': pessoa['Altura'], 'Peso': pessoa['Peso'], 'Idade': pessoa['Idade'] }\n",
        "\n",
        "print(nova_ordem)"
      ],
      "metadata": {
        "colab": {
          "base_uri": "https://localhost:8080/"
        },
        "id": "CjFh7SOiWbGX",
        "outputId": "194891ff-bf69-481e-93c0-2b3ffc31ff72"
      },
      "execution_count": null,
      "outputs": [
        {
          "output_type": "stream",
          "name": "stdout",
          "text": [
            "{'Nome': 'Rafael', 'Altura': '1.82', 'Peso': '90', 'Idade': '51'}\n"
          ]
        }
      ]
    },
    {
      "cell_type": "code",
      "source": [
        "# Método mais avançado*\n",
        "\n",
        "from collections import OrderedDict\n",
        "\n",
        "meu_dicionario = {'b': 2, 'a': 1, 'c': 3}\n",
        "\n",
        "# Criando um OrderedDict a partir do dicionário original (preserva a ordem)\n",
        "dicionario_ordenado = OrderedDict(sorted(meu_dicionario.items()))\n",
        "\n",
        "print(dicionario_ordenado)"
      ],
      "metadata": {
        "colab": {
          "base_uri": "https://localhost:8080/"
        },
        "id": "V6XMe8U-X8Sb",
        "outputId": "a2c3f8b3-7b5d-498d-807c-c70e5901259b"
      },
      "execution_count": null,
      "outputs": [
        {
          "output_type": "stream",
          "name": "stdout",
          "text": [
            "OrderedDict([('a', 1), ('b', 2), ('c', 3)])\n"
          ]
        }
      ]
    }
  ]
}