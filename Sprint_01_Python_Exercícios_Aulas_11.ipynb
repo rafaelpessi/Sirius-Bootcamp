{
  "nbformat": 4,
  "nbformat_minor": 0,
  "metadata": {
    "colab": {
      "provenance": [],
      "authorship_tag": "ABX9TyMqu3Ii3QAdvLsaMgzPTAp6",
      "include_colab_link": true
    },
    "kernelspec": {
      "name": "python3",
      "display_name": "Python 3"
    },
    "language_info": {
      "name": "python"
    }
  },
  "cells": [
    {
      "cell_type": "markdown",
      "metadata": {
        "id": "view-in-github",
        "colab_type": "text"
      },
      "source": [
        "<a href=\"https://colab.research.google.com/github/rafaelpessi/Sirius-Bootcamp/blob/main/Sprint_01_Python_Exerc%C3%ADcios_Aulas_11.ipynb\" target=\"_parent\"><img src=\"https://colab.research.google.com/assets/colab-badge.svg\" alt=\"Open In Colab\"/></a>"
      ]
    },
    {
      "cell_type": "markdown",
      "source": [
        "<br>\n",
        "<br>\n",
        "\n",
        "# **Aula 11 - Funções**\n",
        "\n",
        "<br>\n",
        "<br>\n",
        "\n",
        "___\n",
        "\n",
        "**Funções** são blocos de código que executam funcionalidades específicas.\n",
        "\n",
        "Normalmente são utilizados para evitar que determinada parte do seu código sejá escrito varias vezes.\n"
      ],
      "metadata": {
        "id": "wBEXU2I7gH2c"
      }
    },
    {
      "cell_type": "code",
      "execution_count": null,
      "metadata": {
        "id": "8rZh7SzSe9SN"
      },
      "outputs": [],
      "source": [
        "def funcao():\n",
        "  print('Olá, Rafael!')"
      ]
    },
    {
      "cell_type": "code",
      "source": [
        "funcao()"
      ],
      "metadata": {
        "colab": {
          "base_uri": "https://localhost:8080/"
        },
        "id": "XQVGCpchhWAr",
        "outputId": "4683afe2-7419-4df8-8fb5-4984cca889ad"
      },
      "execution_count": null,
      "outputs": [
        {
          "output_type": "stream",
          "name": "stdout",
          "text": [
            "Olá, Rafael!\n"
          ]
        }
      ]
    },
    {
      "cell_type": "code",
      "source": [
        "input('Digite um número:')"
      ],
      "metadata": {
        "colab": {
          "base_uri": "https://localhost:8080/",
          "height": 53
        },
        "id": "7xVZGFnqiFVS",
        "outputId": "ba3a5b10-8803-4e8c-827c-73fce7dd34ef"
      },
      "execution_count": null,
      "outputs": [
        {
          "name": "stdout",
          "output_type": "stream",
          "text": [
            "Digite um número:7\n"
          ]
        },
        {
          "output_type": "execute_result",
          "data": {
            "text/plain": [
              "'7'"
            ],
            "application/vnd.google.colaboratory.intrinsic+json": {
              "type": "string"
            }
          },
          "metadata": {},
          "execution_count": 3
        }
      ]
    },
    {
      "cell_type": "code",
      "source": [
        "min(5,6,7,8,9,12)"
      ],
      "metadata": {
        "colab": {
          "base_uri": "https://localhost:8080/"
        },
        "id": "0qqTUabAiUd_",
        "outputId": "c6991a79-d8ac-4656-e6eb-b6fd05832d16"
      },
      "execution_count": null,
      "outputs": [
        {
          "output_type": "execute_result",
          "data": {
            "text/plain": [
              "5"
            ]
          },
          "metadata": {},
          "execution_count": 4
        }
      ]
    },
    {
      "cell_type": "code",
      "source": [
        "max(5,6,7,8,9,12)"
      ],
      "metadata": {
        "colab": {
          "base_uri": "https://localhost:8080/"
        },
        "id": "_OOQCOV1ib7C",
        "outputId": "94ff1580-8b3b-443b-aa58-3176ecffe5e3"
      },
      "execution_count": null,
      "outputs": [
        {
          "output_type": "execute_result",
          "data": {
            "text/plain": [
              "12"
            ]
          },
          "metadata": {},
          "execution_count": 5
        }
      ]
    },
    {
      "cell_type": "code",
      "source": [
        "sum([4,5,6,7,8,9])"
      ],
      "metadata": {
        "colab": {
          "base_uri": "https://localhost:8080/"
        },
        "id": "zJo6dWNdigyo",
        "outputId": "0f76d52a-9aa3-4805-91d3-ca3c383d13c8"
      },
      "execution_count": null,
      "outputs": [
        {
          "output_type": "execute_result",
          "data": {
            "text/plain": [
              "39"
            ]
          },
          "metadata": {},
          "execution_count": 6
        }
      ]
    },
    {
      "cell_type": "code",
      "source": [
        "def soma():\n",
        "  somar_numeros = 20 + 40\n",
        "\n",
        "  print(f'A soma é igual a: {somar_numeros}')"
      ],
      "metadata": {
        "id": "1SaJp9WNjPvQ"
      },
      "execution_count": null,
      "outputs": []
    },
    {
      "cell_type": "code",
      "source": [
        "soma()"
      ],
      "metadata": {
        "colab": {
          "base_uri": "https://localhost:8080/"
        },
        "id": "LFWew4ytjlLm",
        "outputId": "e5ef9a3d-4b30-44cd-b3ad-49236d2fc3b4"
      },
      "execution_count": null,
      "outputs": [
        {
          "output_type": "stream",
          "name": "stdout",
          "text": [
            "A soma é igual a: 60\n"
          ]
        }
      ]
    },
    {
      "cell_type": "code",
      "source": [
        "def soma_2 (a, b):\n",
        "\n",
        "  somar_numeros = a + b\n",
        "\n",
        "  print(f'A soma é igual a: {somar_numeros}')"
      ],
      "metadata": {
        "id": "UlmFidWvkcgZ"
      },
      "execution_count": null,
      "outputs": []
    },
    {
      "cell_type": "code",
      "source": [
        "soma_2(15, 35)"
      ],
      "metadata": {
        "colab": {
          "base_uri": "https://localhost:8080/"
        },
        "id": "5KVK50Mpkob0",
        "outputId": "87f4b8fd-d163-4ace-accd-b03785805aa9"
      },
      "execution_count": null,
      "outputs": [
        {
          "output_type": "stream",
          "name": "stdout",
          "text": [
            "A soma é igual a: 50\n"
          ]
        }
      ]
    },
    {
      "cell_type": "code",
      "source": [
        "soma_2 (23, 57)"
      ],
      "metadata": {
        "colab": {
          "base_uri": "https://localhost:8080/"
        },
        "id": "mnhwvDQZlJ2a",
        "outputId": "6f9833c6-27f8-4456-fc8a-e7d824948c59"
      },
      "execution_count": null,
      "outputs": [
        {
          "output_type": "stream",
          "name": "stdout",
          "text": [
            "A soma é igual a: 80\n"
          ]
        }
      ]
    },
    {
      "cell_type": "code",
      "source": [
        "def soma_3 (a, b):\n",
        "\n",
        "  soma = a + b\n",
        "\n",
        "  return soma"
      ],
      "metadata": {
        "id": "6znyvJVKmH44"
      },
      "execution_count": null,
      "outputs": []
    },
    {
      "cell_type": "code",
      "source": [
        "somar = soma_3(17, 23)"
      ],
      "metadata": {
        "id": "x0RY4iCGmV8T"
      },
      "execution_count": null,
      "outputs": []
    },
    {
      "cell_type": "code",
      "source": [
        "print(f'A soma é igual a: {somar}')"
      ],
      "metadata": {
        "colab": {
          "base_uri": "https://localhost:8080/"
        },
        "id": "hjgruxNfmqjT",
        "outputId": "c8b8be1c-06eb-4c9d-c542-c106e8059ba7"
      },
      "execution_count": null,
      "outputs": [
        {
          "output_type": "stream",
          "name": "stdout",
          "text": [
            "A soma é igual a: 40\n"
          ]
        }
      ]
    },
    {
      "cell_type": "code",
      "source": [
        "def soma_4 (a, b):\n",
        "\n",
        "  soma = a + b\n",
        "\n",
        "  media = (a + b) / 2\n",
        "\n",
        "  return soma, media"
      ],
      "metadata": {
        "id": "_S03Bn8SnE2Y"
      },
      "execution_count": null,
      "outputs": []
    },
    {
      "cell_type": "code",
      "source": [
        "somar = soma_4(100,20)"
      ],
      "metadata": {
        "id": "AOcHxz4ooXA6"
      },
      "execution_count": null,
      "outputs": []
    },
    {
      "cell_type": "code",
      "source": [
        "print(somar)"
      ],
      "metadata": {
        "colab": {
          "base_uri": "https://localhost:8080/"
        },
        "id": "7R9s1o_joXs9",
        "outputId": "d5f6e204-d067-4d7f-c0ac-b7fb8a7576c9"
      },
      "execution_count": null,
      "outputs": [
        {
          "output_type": "stream",
          "name": "stdout",
          "text": [
            "(120, 60.0)\n"
          ]
        }
      ]
    },
    {
      "cell_type": "code",
      "source": [
        "soma, media  = soma_4(100,20)"
      ],
      "metadata": {
        "id": "0y-tJ3TyobK5"
      },
      "execution_count": null,
      "outputs": []
    },
    {
      "cell_type": "code",
      "source": [
        "print(soma)"
      ],
      "metadata": {
        "colab": {
          "base_uri": "https://localhost:8080/"
        },
        "id": "uhSMvgdYomfB",
        "outputId": "4f3f5c8b-8574-4383-eaae-b771353d25f6"
      },
      "execution_count": null,
      "outputs": [
        {
          "output_type": "stream",
          "name": "stdout",
          "text": [
            "120\n"
          ]
        }
      ]
    },
    {
      "cell_type": "code",
      "source": [
        "print(media)"
      ],
      "metadata": {
        "colab": {
          "base_uri": "https://localhost:8080/"
        },
        "id": "20Lsa0URoqKq",
        "outputId": "2bf101aa-7819-43fe-b229-28f389b16e47"
      },
      "execution_count": null,
      "outputs": [
        {
          "output_type": "stream",
          "name": "stdout",
          "text": [
            "60.0\n"
          ]
        }
      ]
    },
    {
      "cell_type": "code",
      "source": [
        "def entrada_de_dados():\n",
        "\n",
        "  numero_1 = int(input('Digite um número: '))\n",
        "  numero_2 = int(input('Digite outro número: '))\n",
        "\n",
        "  soma = soma_3(numero_1, numero_2)\n",
        "\n",
        "  print(f'A soma é igual a: {soma}')"
      ],
      "metadata": {
        "id": "ZMkMgSwsotQN"
      },
      "execution_count": null,
      "outputs": []
    },
    {
      "cell_type": "code",
      "source": [
        "entrada_de_dados()"
      ],
      "metadata": {
        "id": "ehRU5qCrqB1i",
        "outputId": "590ab6b4-be47-4a1b-9e3d-472943ab5a9c",
        "colab": {
          "base_uri": "https://localhost:8080/"
        }
      },
      "execution_count": null,
      "outputs": [
        {
          "output_type": "stream",
          "name": "stdout",
          "text": [
            "Digite um número: 5\n",
            "Digite outro número: 8\n",
            "A soma é igual a: 13\n"
          ]
        }
      ]
    }
  ]
}