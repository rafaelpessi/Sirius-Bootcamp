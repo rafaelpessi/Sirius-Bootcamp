{
  "nbformat": 4,
  "nbformat_minor": 0,
  "metadata": {
    "colab": {
      "provenance": [],
      "authorship_tag": "ABX9TyOLQXVNL2FyOyjS3iu8F58t",
      "include_colab_link": true
    },
    "kernelspec": {
      "name": "python3",
      "display_name": "Python 3"
    },
    "language_info": {
      "name": "python"
    }
  },
  "cells": [
    {
      "cell_type": "markdown",
      "metadata": {
        "id": "view-in-github",
        "colab_type": "text"
      },
      "source": [
        "<a href=\"https://colab.research.google.com/github/rafaelpessi/Sirius-Bootcamp/blob/main/Sprint_01_Python_Exerc%C3%ADcios_Aulas_10.ipynb\" target=\"_parent\"><img src=\"https://colab.research.google.com/assets/colab-badge.svg\" alt=\"Open In Colab\"/></a>"
      ]
    },
    {
      "cell_type": "markdown",
      "source": [
        "<br>\n",
        "<br>\n",
        "\n",
        "# **Aula 10 - Estrutura de Repetição - While**\n",
        "\n",
        "<br>\n",
        "<br>\n",
        "\n",
        "___\n",
        "O **while** é uma estrutura de repetição que permite executar um determinado bloco de código enquanto uma condição for verdadeira.\n",
        "\n",
        "![](https://drive.google.com/file/d/15d7FC31HrRMicuuRQQo4HNjkS1Z4skmu/view?usp=sharing)![while.png](data:image/png;base64,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)\n",
        "\n"
      ],
      "metadata": {
        "id": "-6Fs7VOv9LBL"
      }
    },
    {
      "cell_type": "code",
      "execution_count": null,
      "metadata": {
        "colab": {
          "base_uri": "https://localhost:8080/"
        },
        "id": "XC0jYgcO9CyC",
        "outputId": "6f1fec4f-fa3e-42e8-96c3-edd8977eeeff"
      },
      "outputs": [
        {
          "output_type": "stream",
          "name": "stdout",
          "text": [
            "Olá Rafael!\n",
            "Olá Rafael!\n",
            "Olá Rafael!\n",
            "Olá Rafael!\n",
            "Olá Rafael!\n"
          ]
        }
      ],
      "source": [
        "contador = 0\n",
        "\n",
        "while contador < 5:\n",
        "  print('Olá Rafael!')\n",
        "\n",
        "  contador = contador + 1"
      ]
    },
    {
      "cell_type": "code",
      "source": [
        "n = 1\n",
        "soma = 0\n",
        "\n",
        "while n != 0:\n",
        "\n",
        "  numero = int(input('Digite um número: '))\n",
        "\n",
        "  soma = soma + numero\n",
        "\n",
        "  if numero == 0:\n",
        "    n = 0"
      ],
      "metadata": {
        "colab": {
          "base_uri": "https://localhost:8080/"
        },
        "id": "eHc_U4dgAEY8",
        "outputId": "c40c9c87-09c3-4f45-cfb0-409ef3f56274"
      },
      "execution_count": null,
      "outputs": [
        {
          "name": "stdout",
          "output_type": "stream",
          "text": [
            "Digite um número: 6\n",
            "Digite um número: 8\n",
            "Digite um número: 7\n",
            "Digite um número: 9\n",
            "Digite um número: 10\n",
            "Digite um número: 12\n",
            "Digite um número: 45\n",
            "Digite um número: 0\n"
          ]
        }
      ]
    },
    {
      "cell_type": "code",
      "source": [
        "soma = 0\n",
        "lista = []\n",
        "\n",
        "while True:\n",
        "\n",
        "  numero = int(input('Digite um número: '))\n",
        "\n",
        "  lista.append(numero)\n",
        "\n",
        "  soma = soma + numero\n",
        "\n",
        "  if numero == 0:\n",
        "    break"
      ],
      "metadata": {
        "colab": {
          "base_uri": "https://localhost:8080/"
        },
        "id": "QOKH-2dRCF2y",
        "outputId": "8ee1c6b0-80cc-441d-f33a-7c4480e62f04"
      },
      "execution_count": null,
      "outputs": [
        {
          "name": "stdout",
          "output_type": "stream",
          "text": [
            "Digite um número: 6\n",
            "Digite um número: 4\n",
            "Digite um número: 3\n",
            "Digite um número: 2\n",
            "Digite um número: 2\n",
            "Digite um número: 1\n",
            "Digite um número: 0\n"
          ]
        }
      ]
    },
    {
      "cell_type": "code",
      "source": [
        "print(lista)"
      ],
      "metadata": {
        "colab": {
          "base_uri": "https://localhost:8080/"
        },
        "id": "SIeFvbyFDCRy",
        "outputId": "25dca0e0-75d3-41c8-80c2-4e5b3db62b1e"
      },
      "execution_count": null,
      "outputs": [
        {
          "output_type": "stream",
          "name": "stdout",
          "text": [
            "[6, 4, 3, 2, 2, 1, 0]\n"
          ]
        }
      ]
    },
    {
      "cell_type": "code",
      "source": [
        "print(soma)"
      ],
      "metadata": {
        "colab": {
          "base_uri": "https://localhost:8080/"
        },
        "id": "hFu6-eX6DGYO",
        "outputId": "1126c19a-ff42-480f-e435-7cff7db5014e"
      },
      "execution_count": null,
      "outputs": [
        {
          "output_type": "stream",
          "name": "stdout",
          "text": [
            "18\n"
          ]
        }
      ]
    },
    {
      "cell_type": "markdown",
      "source": [
        "**Exercício 1:** Escreva um programa que soma todos os números de 1 a 10\n",
        "\n",
        "1.   Item da lista\n",
        "2.   Item da lista"
      ],
      "metadata": {
        "id": "v1I6COBQDUPh"
      }
    },
    {
      "cell_type": "code",
      "source": [
        "n = 1\n",
        "soma = 0\n",
        "\n",
        "while n <= 10:\n",
        "  soma = soma + n\n",
        "\n",
        "  n = n + 1\n"
      ],
      "metadata": {
        "id": "Iqk86BwdDWCd"
      },
      "execution_count": null,
      "outputs": []
    },
    {
      "cell_type": "code",
      "source": [
        "print(f'A soma é igual a: {soma}.')"
      ],
      "metadata": {
        "colab": {
          "base_uri": "https://localhost:8080/"
        },
        "id": "bsZuPKwcEdRk",
        "outputId": "beb512c1-97e1-449f-854a-54f1747b0acc"
      },
      "execution_count": null,
      "outputs": [
        {
          "output_type": "stream",
          "name": "stdout",
          "text": [
            "A soma é igual a: 55.\n"
          ]
        }
      ]
    },
    {
      "cell_type": "markdown",
      "source": [
        "**Exercício 2:** Escreva um programa que solicita ao usuário 5 números. Após o usuário digitar os 5 números, o programa deve exibir a soma dos números:"
      ],
      "metadata": {
        "id": "bLyLpOTkFMjF"
      }
    },
    {
      "cell_type": "code",
      "source": [
        "n = 1\n",
        "soma = 0\n",
        "\n",
        "while n <= 5:\n",
        "\n",
        "  numero = int(input('Digite um número: '))\n",
        "  soma = soma + numero\n",
        "\n",
        "  n = n + 1\n",
        "\n",
        "  if n == 6:\n",
        "    break\n",
        "\n",
        "print(f'A soma é igual a: {soma}.')"
      ],
      "metadata": {
        "colab": {
          "base_uri": "https://localhost:8080/"
        },
        "id": "RssgXL-iGnr7",
        "outputId": "a187ae6f-f808-4bd3-c1db-48c6c15d28c9"
      },
      "execution_count": null,
      "outputs": [
        {
          "output_type": "stream",
          "name": "stdout",
          "text": [
            "Digite um número: 5\n",
            "Digite um número: 10\n",
            "Digite um número: 10\n",
            "Digite um número: 5\n",
            "Digite um número: 10\n",
            "A soma é igual a: 40.\n"
          ]
        }
      ]
    }
  ]
}