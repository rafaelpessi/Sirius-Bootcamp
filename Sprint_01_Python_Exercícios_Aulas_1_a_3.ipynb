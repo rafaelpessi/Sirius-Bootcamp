{
  "nbformat": 4,
  "nbformat_minor": 0,
  "metadata": {
    "colab": {
      "provenance": [],
      "authorship_tag": "ABX9TyP4+UlmJZIjwAd8ARBhjD0R",
      "include_colab_link": true
    },
    "kernelspec": {
      "name": "python3",
      "display_name": "Python 3"
    },
    "language_info": {
      "name": "python"
    }
  },
  "cells": [
    {
      "cell_type": "markdown",
      "metadata": {
        "id": "view-in-github",
        "colab_type": "text"
      },
      "source": [
        "<a href=\"https://colab.research.google.com/github/rafaelpessi/Sirius-Bootcamp/blob/main/Sprint_01_Python_Exerc%C3%ADcios_Aulas_1_a_3.ipynb\" target=\"_parent\"><img src=\"https://colab.research.google.com/assets/colab-badge.svg\" alt=\"Open In Colab\"/></a>"
      ]
    },
    {
      "cell_type": "markdown",
      "source": [
        "<br>\n",
        "<br>\n",
        "\n",
        "# **Aula 01 - Variáveis e tipos de dados**\n",
        "\n",
        "<br>\n",
        "<br>\n",
        "\n",
        "___"
      ],
      "metadata": {
        "id": "qF9CQHtg4zux"
      }
    },
    {
      "cell_type": "markdown",
      "source": [
        "### **Tipos de Variáveis**\n",
        "\n",
        "* **Inteiros (int)**: Números positivos, negativos ou o zero.\n",
        "* **Reais (float)**: Números decimais, ou seja, números que possuem partes fracionadas.\n",
        "* **Booleanas (bool)**: Armazenam valores lógicos que podem ser verdadeiro ou falso.\n",
        "* **Strings (caracteres)**: String é uma cadeia de caracteres que representam textos."
      ],
      "metadata": {
        "id": "G79XmxaF5DvW"
      }
    },
    {
      "cell_type": "code",
      "execution_count": null,
      "metadata": {
        "id": "bRiNsCCP3xeB"
      },
      "outputs": [],
      "source": [
        "nota = 10"
      ]
    },
    {
      "cell_type": "code",
      "source": [
        "nota_1 = 1.50"
      ],
      "metadata": {
        "id": "EJ7NeFsd5P4S"
      },
      "execution_count": null,
      "outputs": []
    },
    {
      "cell_type": "code",
      "source": [
        "nota_2 = True"
      ],
      "metadata": {
        "id": "zG5TFlu-5Umf"
      },
      "execution_count": null,
      "outputs": []
    },
    {
      "cell_type": "code",
      "source": [
        "nome = 'Rafael'"
      ],
      "metadata": {
        "id": "oD1YaQoj37Ei"
      },
      "execution_count": null,
      "outputs": []
    },
    {
      "cell_type": "code",
      "source": [
        "type(nota)"
      ],
      "metadata": {
        "colab": {
          "base_uri": "https://localhost:8080/"
        },
        "id": "2N3biN2b4xhc",
        "outputId": "cb8a762c-104e-435c-e6dd-a252693e4cad"
      },
      "execution_count": null,
      "outputs": [
        {
          "output_type": "execute_result",
          "data": {
            "text/plain": [
              "int"
            ]
          },
          "metadata": {},
          "execution_count": 3
        }
      ]
    },
    {
      "cell_type": "code",
      "source": [
        "type(nota_1)"
      ],
      "metadata": {
        "colab": {
          "base_uri": "https://localhost:8080/"
        },
        "id": "puojmuh451jf",
        "outputId": "a9c1d2ba-38c2-482e-9055-541c1c7890dc"
      },
      "execution_count": null,
      "outputs": [
        {
          "output_type": "execute_result",
          "data": {
            "text/plain": [
              "float"
            ]
          },
          "metadata": {},
          "execution_count": 10
        }
      ]
    },
    {
      "cell_type": "code",
      "source": [
        "type(nota_2)"
      ],
      "metadata": {
        "colab": {
          "base_uri": "https://localhost:8080/"
        },
        "id": "OuwcJFqD6BVX",
        "outputId": "22167bfa-7f94-47ce-8409-df0cd3ee11eb"
      },
      "execution_count": null,
      "outputs": [
        {
          "output_type": "execute_result",
          "data": {
            "text/plain": [
              "bool"
            ]
          },
          "metadata": {},
          "execution_count": 11
        }
      ]
    },
    {
      "cell_type": "code",
      "source": [
        "type(nome)"
      ],
      "metadata": {
        "colab": {
          "base_uri": "https://localhost:8080/"
        },
        "id": "x56OrcYc6G7z",
        "outputId": "5fb7c6fa-9496-41ef-b707-77e9ed232e5d"
      },
      "execution_count": null,
      "outputs": [
        {
          "output_type": "execute_result",
          "data": {
            "text/plain": [
              "str"
            ]
          },
          "metadata": {},
          "execution_count": 12
        }
      ]
    },
    {
      "cell_type": "markdown",
      "source": [
        "<br>\n",
        "<br>\n",
        "\n",
        "# **Aula 02 - Entrada e Saída de Dados**\n",
        "\n",
        "<br>\n",
        "<br>\n",
        "\n",
        "___"
      ],
      "metadata": {
        "id": "O9vLVAlx6czJ"
      }
    },
    {
      "cell_type": "markdown",
      "source": [
        "#### **Saída de Dados**\n",
        "\n",
        "Existem várias maneiras de apresentar a saída de um programa; os dados podem ser exibidos em forma legível para seres humanos, ou escritos em arquivos para uso posterior.\n",
        "\n",
        "Para exibir valores para o usuário utilizamos a função ***print()***."
      ],
      "metadata": {
        "id": "3UPPYR1j6u8G"
      }
    },
    {
      "cell_type": "code",
      "source": [
        "print ('Olá Rafael, você está gostando de aprender Python?')"
      ],
      "metadata": {
        "colab": {
          "base_uri": "https://localhost:8080/"
        },
        "id": "IviCR_f46wWD",
        "outputId": "671dc2ce-52e5-4559-8384-9d23f81b903d"
      },
      "execution_count": null,
      "outputs": [
        {
          "output_type": "stream",
          "name": "stdout",
          "text": [
            "Olá Rafael, você está gostando de aprender Python?\n"
          ]
        }
      ]
    },
    {
      "cell_type": "code",
      "source": [
        "mensagem  = 'Sim, estou achando bem legal!'"
      ],
      "metadata": {
        "id": "m9_Teacl7AyE"
      },
      "execution_count": null,
      "outputs": []
    },
    {
      "cell_type": "code",
      "source": [
        "print(mensagem)"
      ],
      "metadata": {
        "colab": {
          "base_uri": "https://localhost:8080/"
        },
        "id": "h17IAOlj7Jre",
        "outputId": "24eefee5-49dd-482a-cdc1-f3eb6a118805"
      },
      "execution_count": null,
      "outputs": [
        {
          "output_type": "stream",
          "name": "stdout",
          "text": [
            "Sim, estou achando bem legal!\n"
          ]
        }
      ]
    },
    {
      "cell_type": "code",
      "source": [
        "valor_pi = 3.141592653589793"
      ],
      "metadata": {
        "id": "GfAhww7m7Zaj"
      },
      "execution_count": null,
      "outputs": []
    },
    {
      "cell_type": "code",
      "source": [
        "print(f'O valor aproximado de pi é {valor_pi}') # Primeira opção de impressão de dados"
      ],
      "metadata": {
        "colab": {
          "base_uri": "https://localhost:8080/"
        },
        "id": "XB4hGn_c7au7",
        "outputId": "4f57aded-ce18-4b57-a073-1b0fd2722c0c"
      },
      "execution_count": null,
      "outputs": [
        {
          "output_type": "stream",
          "name": "stdout",
          "text": [
            "O valor aproximado de pi é 3.141592653589793\n"
          ]
        }
      ]
    },
    {
      "cell_type": "code",
      "source": [
        "print('O valor aproximado de pi é {}'.format(valor_pi)) # Segunda opção de impressão de dados"
      ],
      "metadata": {
        "colab": {
          "base_uri": "https://localhost:8080/"
        },
        "id": "4NGo9Ahh70qM",
        "outputId": "1bc97b27-6cc0-49f6-cf86-7ba174539cc4"
      },
      "execution_count": null,
      "outputs": [
        {
          "output_type": "stream",
          "name": "stdout",
          "text": [
            "O valor aproximado de pi é 3.141592653589793\n"
          ]
        }
      ]
    },
    {
      "cell_type": "code",
      "source": [
        "print(f'O valor aproximado de pi é {valor_pi:.4f}') # Primeira opção de impressão de dados com 4 casas decimais"
      ],
      "metadata": {
        "colab": {
          "base_uri": "https://localhost:8080/"
        },
        "id": "J-UFEvcY9FPY",
        "outputId": "dc7bd394-e850-43ec-dab5-5d35d3cd5ede"
      },
      "execution_count": null,
      "outputs": [
        {
          "output_type": "stream",
          "name": "stdout",
          "text": [
            "O valor aproximado de pi é 3.1416\n"
          ]
        }
      ]
    },
    {
      "cell_type": "code",
      "source": [
        "print('O valor aproximado de pi é {:.6}'.format(valor_pi)) # Segunda opção de impressão de dados com 6 casas decimais"
      ],
      "metadata": {
        "colab": {
          "base_uri": "https://localhost:8080/"
        },
        "id": "TcF2THhW9yih",
        "outputId": "d45aac39-7dba-4aa1-c98e-c5be4dbebcd2"
      },
      "execution_count": null,
      "outputs": [
        {
          "output_type": "stream",
          "name": "stdout",
          "text": [
            "O valor aproximado de pi é 3.14159\n"
          ]
        }
      ]
    },
    {
      "cell_type": "code",
      "source": [
        "nome = 'Rafael'\n",
        "nome_site = 'Universo do Handpan'\n",
        "\n",
        "print(f'O {nome} é o fundador do site {nome_site}.')"
      ],
      "metadata": {
        "colab": {
          "base_uri": "https://localhost:8080/"
        },
        "id": "_I_PGJws_6HO",
        "outputId": "c0b03961-eada-4362-a035-57b7efce082c"
      },
      "execution_count": null,
      "outputs": [
        {
          "output_type": "stream",
          "name": "stdout",
          "text": [
            "O Rafael é o fundador do site Universo do Handpan.\n"
          ]
        }
      ]
    },
    {
      "cell_type": "code",
      "source": [
        "print('O {} é o fundador do site {}.'.format(nome,nome_site))"
      ],
      "metadata": {
        "colab": {
          "base_uri": "https://localhost:8080/"
        },
        "id": "h5YbhowcAizu",
        "outputId": "608855bd-4d5b-44a6-db17-aaad8c7ffe5d"
      },
      "execution_count": null,
      "outputs": [
        {
          "output_type": "stream",
          "name": "stdout",
          "text": [
            "O Rafael é o fundador do site Universo do Handpan.\n"
          ]
        }
      ]
    },
    {
      "cell_type": "markdown",
      "source": [
        "#### **Entrada de Dados**\n",
        "\n",
        "Um programa, geralmente, é criado para interagir com os usuários para obter dados ou fornecer algum tipo de informação.\n",
        "\n",
        "Um programa de computador pode receber entrada de dados de muitas formas: por meio do teclado (quando o usuário digita alguma coisa), via linha de comando, por meio de arquivos de entrada, ou até mesmo por meio de cliques do usuário em botões.\n",
        "\n",
        "Aprenderemos como ler a entrada a partir do teclado.\n",
        "\n",
        "Em python, para ler dados digitados pelo usuário durante a execução do programa, utilizamos a função ***input()***"
      ],
      "metadata": {
        "id": "oZPn9s2rA4p9"
      }
    },
    {
      "cell_type": "code",
      "source": [
        "nome_2 = input('Digite seu nome: ')"
      ],
      "metadata": {
        "colab": {
          "base_uri": "https://localhost:8080/"
        },
        "id": "je63kNIzA6gF",
        "outputId": "ecc6f533-36ef-4c80-bcf7-c4a6e05da27a"
      },
      "execution_count": null,
      "outputs": [
        {
          "name": "stdout",
          "output_type": "stream",
          "text": [
            "Digite seu nome: Rafael\n"
          ]
        }
      ]
    },
    {
      "cell_type": "code",
      "source": [
        "print(nome_2)"
      ],
      "metadata": {
        "colab": {
          "base_uri": "https://localhost:8080/"
        },
        "id": "mSPEPyReBIPr",
        "outputId": "ef4f4d73-6f1d-4020-97f4-1474c5e794a7"
      },
      "execution_count": null,
      "outputs": [
        {
          "output_type": "stream",
          "name": "stdout",
          "text": [
            "Rafael\n"
          ]
        }
      ]
    },
    {
      "cell_type": "code",
      "source": [
        "print(type(nome_2))"
      ],
      "metadata": {
        "colab": {
          "base_uri": "https://localhost:8080/"
        },
        "id": "tx9M4TwqCLOb",
        "outputId": "b9203183-6a08-47ba-b776-b1b732bf20ef"
      },
      "execution_count": null,
      "outputs": [
        {
          "output_type": "stream",
          "name": "stdout",
          "text": [
            "<class 'str'>\n"
          ]
        }
      ]
    },
    {
      "cell_type": "code",
      "source": [
        "numero = int(input('Digite um número: '))"
      ],
      "metadata": {
        "colab": {
          "base_uri": "https://localhost:8080/"
        },
        "id": "8DFIG7NLBYpu",
        "outputId": "57ccace1-025a-442d-a8da-5080060e1b8d"
      },
      "execution_count": null,
      "outputs": [
        {
          "name": "stdout",
          "output_type": "stream",
          "text": [
            "Digite um número: 65\n"
          ]
        }
      ]
    },
    {
      "cell_type": "code",
      "source": [
        "print(numero)"
      ],
      "metadata": {
        "colab": {
          "base_uri": "https://localhost:8080/"
        },
        "id": "iXDaW8fEBuGg",
        "outputId": "15898b17-9a2c-4824-9f39-17e138b668af"
      },
      "execution_count": null,
      "outputs": [
        {
          "output_type": "stream",
          "name": "stdout",
          "text": [
            "65\n"
          ]
        }
      ]
    },
    {
      "cell_type": "code",
      "source": [
        "print (type(numero))"
      ],
      "metadata": {
        "colab": {
          "base_uri": "https://localhost:8080/"
        },
        "id": "14XG3M-nB7jW",
        "outputId": "59c8edf3-7f45-4b14-d508-4df6275132e9"
      },
      "execution_count": null,
      "outputs": [
        {
          "output_type": "stream",
          "name": "stdout",
          "text": [
            "<class 'int'>\n"
          ]
        }
      ]
    },
    {
      "cell_type": "code",
      "source": [
        "numero + 5"
      ],
      "metadata": {
        "colab": {
          "base_uri": "https://localhost:8080/"
        },
        "id": "-i7TQ6CZCQP_",
        "outputId": "8b1107e2-5474-4401-89ee-2e1c88a6720b"
      },
      "execution_count": null,
      "outputs": [
        {
          "output_type": "execute_result",
          "data": {
            "text/plain": [
              "70"
            ]
          },
          "metadata": {},
          "execution_count": 42
        }
      ]
    },
    {
      "cell_type": "code",
      "source": [
        "altura = float(input('Informe sua altura: '))"
      ],
      "metadata": {
        "colab": {
          "base_uri": "https://localhost:8080/"
        },
        "id": "Owq5YE81CYzN",
        "outputId": "0e9d6643-8681-4c9d-942b-822cbe366894"
      },
      "execution_count": null,
      "outputs": [
        {
          "name": "stdout",
          "output_type": "stream",
          "text": [
            "Informe sua altura: 1.82\n"
          ]
        }
      ]
    },
    {
      "cell_type": "code",
      "source": [
        "altura_2 = float(input('Informe novamente sua altura: '))"
      ],
      "metadata": {
        "colab": {
          "base_uri": "https://localhost:8080/"
        },
        "id": "VGAQWbyfC53P",
        "outputId": "05ebc19b-a592-419e-a845-66e4a9d51710"
      },
      "execution_count": null,
      "outputs": [
        {
          "name": "stdout",
          "output_type": "stream",
          "text": [
            "Informe novamente sua altura: 0.18\n"
          ]
        }
      ]
    },
    {
      "cell_type": "code",
      "source": [
        "altura + altura_2"
      ],
      "metadata": {
        "colab": {
          "base_uri": "https://localhost:8080/"
        },
        "id": "z-X6T7nVDCkH",
        "outputId": "dbd96137-b365-4e06-962d-270256f8bf1d"
      },
      "execution_count": null,
      "outputs": [
        {
          "output_type": "execute_result",
          "data": {
            "text/plain": [
              "2.0"
            ]
          },
          "metadata": {},
          "execution_count": 47
        }
      ]
    },
    {
      "cell_type": "code",
      "source": [
        "print (type(altura))"
      ],
      "metadata": {
        "colab": {
          "base_uri": "https://localhost:8080/"
        },
        "id": "Z6J4JV3aCrPa",
        "outputId": "ec85987a-8c0c-4fc3-c0ea-c28ccc5c19ed"
      },
      "execution_count": null,
      "outputs": [
        {
          "output_type": "stream",
          "name": "stdout",
          "text": [
            "<class 'float'>\n"
          ]
        }
      ]
    },
    {
      "cell_type": "code",
      "source": [],
      "metadata": {
        "id": "7YsU513GZxYo"
      },
      "execution_count": null,
      "outputs": []
    },
    {
      "cell_type": "markdown",
      "source": [
        "<br>\n",
        "<br>\n",
        "\n",
        "# **Aula 03 - Operadores Aritméticos e de Comparação**\n",
        "\n",
        "<br>\n",
        "<br>\n",
        "\n",
        "___"
      ],
      "metadata": {
        "id": "ZA-JB1_GZtg0"
      }
    },
    {
      "cell_type": "markdown",
      "source": [
        "#### **Operadores Aritméticos**\n",
        "\n",
        "Os operadores aritméticos são usados ​​com valores numéricos para realizar operações matemáticas.\n",
        "\n",
        "Operador | Nome\n",
        "-------- | --------\n",
        "+        | Adição\n",
        "-        | Subtração\n",
        "*        | Multiplicação\n",
        "**       | Exponenciação\n",
        "/        | Divisão\n",
        "//       | Divisão Inteira (Quociente)\n",
        "%        | Módulo (Resto da Divisão)"
      ],
      "metadata": {
        "id": "oCWKJjXbaBkd"
      }
    },
    {
      "cell_type": "code",
      "source": [
        "# Adição\n",
        "\n",
        "numero_1 = 15\n",
        "numero_2 = 20\n",
        "\n",
        "soma = numero_1 + numero_2\n",
        "\n",
        "print(f'A soma dos números {numero_1} e {numero_2} é igual a : {soma}')"
      ],
      "metadata": {
        "colab": {
          "base_uri": "https://localhost:8080/"
        },
        "id": "QXdQE-VUaDD4",
        "outputId": "cb1a57e3-e3ca-4599-e4e7-85da55401109"
      },
      "execution_count": null,
      "outputs": [
        {
          "output_type": "stream",
          "name": "stdout",
          "text": [
            "A soma dos números 15 e 20 é igual a : 35\n"
          ]
        }
      ]
    },
    {
      "cell_type": "code",
      "source": [
        "numero_3 = int(input('Digite um número: '))\n",
        "numero_4 = int(input('Digite outro número: '))"
      ],
      "metadata": {
        "colab": {
          "base_uri": "https://localhost:8080/"
        },
        "id": "JJPhsbA5aqTb",
        "outputId": "913276e1-84eb-42c9-ff27-469c796dd1de"
      },
      "execution_count": null,
      "outputs": [
        {
          "name": "stdout",
          "output_type": "stream",
          "text": [
            "Digite um número: 23\n",
            "Digite outro número: 27\n"
          ]
        }
      ]
    },
    {
      "cell_type": "code",
      "source": [
        "soma_2 = numero_3 + numero_4\n",
        "\n",
        "print(f'A soma dos números digitados é igual a : {soma_2}')"
      ],
      "metadata": {
        "colab": {
          "base_uri": "https://localhost:8080/"
        },
        "id": "KrsvZvqQbWVO",
        "outputId": "44582f2a-ffa0-4f64-94d8-dcadd9b6d46a"
      },
      "execution_count": null,
      "outputs": [
        {
          "output_type": "stream",
          "name": "stdout",
          "text": [
            "A soma dos números digitados é igual a : 50\n"
          ]
        }
      ]
    },
    {
      "cell_type": "code",
      "source": [
        "# Subtração\n",
        "\n",
        "numero_5 = 20\n",
        "numero_6 = 10\n",
        "\n",
        "subtracao = numero_5 - numero_6\n",
        "\n",
        "print(f'A subtração dos números {numero_5} e {numero_6} é igual a: {subtracao}')"
      ],
      "metadata": {
        "colab": {
          "base_uri": "https://localhost:8080/"
        },
        "id": "4N1v65Fvb187",
        "outputId": "45e58ace-a742-40ef-a1a4-5d74faebf2bc"
      },
      "execution_count": null,
      "outputs": [
        {
          "output_type": "stream",
          "name": "stdout",
          "text": [
            "A subtração dos números 20 e 10 é igual a: 10\n"
          ]
        }
      ]
    },
    {
      "cell_type": "code",
      "source": [
        "numero_7 = int(input('Digite um número: '))\n",
        "numero_8 = int(input('Digite um número: '))\n",
        "\n",
        "subtracao_2 = numero_7 - numero_8\n",
        "\n",
        "print(f'A subtração dos números {numero_7} e {numero_8} é igual a: {subtracao_2}')"
      ],
      "metadata": {
        "colab": {
          "base_uri": "https://localhost:8080/"
        },
        "id": "lK9rtvLGcZBK",
        "outputId": "6173656c-5bb8-4b1d-8db0-1288f969ee55"
      },
      "execution_count": null,
      "outputs": [
        {
          "output_type": "stream",
          "name": "stdout",
          "text": [
            "Digite um número: 50\n",
            "Digite um número: 20\n",
            "A subtração dos números 50 e 20 é igual a: 30\n"
          ]
        }
      ]
    },
    {
      "cell_type": "code",
      "source": [
        "# Multiplicação\n",
        "\n",
        "numero_9 = int(input('Digite um número: '))\n",
        "numero_10 = int(input('Digite um número: '))\n",
        "\n",
        "multiplicacao = numero_9 * numero_10\n",
        "\n",
        "print(f'A multiplicação dos números {numero_9} e {numero_10} é igual a: {multiplicacao}')"
      ],
      "metadata": {
        "colab": {
          "base_uri": "https://localhost:8080/"
        },
        "id": "yFBwyyNkdVdn",
        "outputId": "1911dfda-3829-4cc9-bfb2-bdfd26edaa65"
      },
      "execution_count": null,
      "outputs": [
        {
          "output_type": "stream",
          "name": "stdout",
          "text": [
            "Digite um número: 5\n",
            "Digite um número: 7\n",
            "A multiplicação dos números 5 e 7 é igual a: 35\n"
          ]
        }
      ]
    },
    {
      "cell_type": "code",
      "source": [
        "# Divisão\n",
        "\n",
        "numero_10 = 9\n",
        "numero_11 = 2\n",
        "\n",
        "divisao = numero_10 / numero_11\n",
        "\n",
        "print(f'A divisão dos números {numero_10} e {numero_11} é igual a: {divisao}')"
      ],
      "metadata": {
        "colab": {
          "base_uri": "https://localhost:8080/"
        },
        "id": "EvObX0aUdz8_",
        "outputId": "f385b09c-10ea-4f7a-f137-d65117b80853"
      },
      "execution_count": null,
      "outputs": [
        {
          "output_type": "stream",
          "name": "stdout",
          "text": [
            "A divisão dos números 9 e 2 é igual a: 4.5\n"
          ]
        }
      ]
    },
    {
      "cell_type": "code",
      "source": [
        "# Divisão inteira\n",
        "\n",
        "numero_12 = int(input('Digite um número: '))\n",
        "numero_13 = int(input('Digite um número: '))\n",
        "\n",
        "divisao_inteira = numero_12 // numero_13\n",
        "\n",
        "print(f'A divisão dos números {numero_12} e {numero_13} é igual a: {divisao_inteira}')"
      ],
      "metadata": {
        "colab": {
          "base_uri": "https://localhost:8080/"
        },
        "id": "QDKejZIue_az",
        "outputId": "d860ab4f-0594-4c2d-b2c8-9e6926826976"
      },
      "execution_count": null,
      "outputs": [
        {
          "output_type": "stream",
          "name": "stdout",
          "text": [
            "Digite um número: 24\n",
            "Digite um número: 7\n",
            "A divisão dos números 24 e 7 é igual a: 3\n"
          ]
        }
      ]
    },
    {
      "cell_type": "code",
      "source": [
        "# Resto da divisão\n",
        "\n",
        "numero_14 = int(input('Digite um número: '))\n",
        "numero_15 = int(input('Digite um número: '))\n",
        "\n",
        "resto = numero_14 % numero_15\n",
        "\n",
        "print(f'O resto da divisão de {numero_14} por {numero_15} é igual a {resto}')\n"
      ],
      "metadata": {
        "colab": {
          "base_uri": "https://localhost:8080/"
        },
        "id": "gurQHiRdfycM",
        "outputId": "cff84fac-b15d-4ec5-ac41-674819c381c0"
      },
      "execution_count": null,
      "outputs": [
        {
          "output_type": "stream",
          "name": "stdout",
          "text": [
            "Digite um número: 43\n",
            "Digite um número: 10\n",
            "O resto da divisão de 43 por 10 é igual a 3\n"
          ]
        }
      ]
    },
    {
      "cell_type": "markdown",
      "source": [
        "#### **Operadores de Comparação**\n",
        "\n",
        "Os operadores de comparação são usados ​​para comparar dois valores.\n",
        "\n",
        "Operador  | Nome\n",
        "--------  | --------\n",
        "==        | Igual a\n",
        ">         | Maior que\n",
        "<         | Menor que\n",
        ">=        | Maior igual\n",
        "<=        | Menor igual\n",
        "!=        | Diferente de"
      ],
      "metadata": {
        "id": "_D7FzpB9hi3j"
      }
    },
    {
      "cell_type": "code",
      "source": [
        "a = 30\n",
        "b = 30\n",
        "\n",
        "print(a != b)"
      ],
      "metadata": {
        "colab": {
          "base_uri": "https://localhost:8080/"
        },
        "id": "DbBlLj8uhkhy",
        "outputId": "f7d396f5-6eda-46c7-df19-e79bacb88750"
      },
      "execution_count": null,
      "outputs": [
        {
          "output_type": "stream",
          "name": "stdout",
          "text": [
            "False\n"
          ]
        }
      ]
    }
  ]
}